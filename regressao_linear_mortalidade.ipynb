{
  "nbformat": 4,
  "nbformat_minor": 0,
  "metadata": {
    "colab": {
      "name": "regressao-linear-mortalidade.ipynb",
      "provenance": [],
      "collapsed_sections": [],
      "authorship_tag": "ABX9TyOARqT1opMdKuz+YWnY/NS1",
      "include_colab_link": true
    },
    "kernelspec": {
      "name": "python3",
      "display_name": "Python 3"
    }
  },
  "cells": [
    {
      "cell_type": "markdown",
      "metadata": {
        "id": "view-in-github",
        "colab_type": "text"
      },
      "source": [
        "<a href=\"https://colab.research.google.com/github/mirianbatista/regressao-linear-multipla/blob/master/regressao_linear_mortalidade.ipynb\" target=\"_parent\"><img src=\"https://colab.research.google.com/assets/colab-badge.svg\" alt=\"Open In Colab\"/></a>"
      ]
    },
    {
      "cell_type": "code",
      "metadata": {
        "id": "TMEGspqnC8ek"
      },
      "source": [
        "import pandas as pd\n",
        "import requests\n",
        "import io\n",
        "from sklearn.model_selection import train_test_split\n",
        "from sklearn.linear_model import LinearRegression\n",
        "from sklearn.metrics import mean_squared_error, r2_score\n",
        "import plotly.graph_objects as go\n",
        "import seaborn as sns"
      ],
      "execution_count": null,
      "outputs": []
    },
    {
      "cell_type": "code",
      "metadata": {
        "id": "Tip46VmsDw2b"
      },
      "source": [
        "indicadores = 'ANO', 'Codmun7', 'UF', 'Município', 'ESPVIDA', 'FECTOT', 'MORT1', 'SOBRE60', 'T_ENV', 'E_ANOSESTUDO', 'T_ANALF11A14', 'T_ANALF25M', 'T_ATRASO_0_BASICO', 'T_ATRASO_2_BASICO', 'T_FLPRE', 'T_FLSUPER', 'T_FREQSUPER1517', 'T_SUPER25M', 'T_MED25M', 'GINI', 'PIND', 'PINDCRI', 'PMPOB', 'PMPOBCRI', 'RDPC', 'CPR', 'EMP', 'P_AGRO', 'P_COM', 'P_CONSTR', 'P_EXTR', 'P_FORMAL', 'P_FUND', 'P_MED', 'P_SERV', 'P_SIUP', 'P_SUPER', 'T_DES2529', 'TRABCC', 'TRABPUB', 'TRABSC', 'T_AGUA', 'T_BANAGUA', 'T_DENS', 'T_LIXO', 'T_LUZ', 'AGUA_ESGOTO', 'PAREDE', 'T_CRIFUNDIN_TODOS', 'T_FORA4A5', 'T_FORA6A14', 'T_FUNDIN_TODOS', 'T_FUNDIN_TODOS_MMEIO', 'T_FUNDIN18MINF', 'T_M10A14CF', 'T_M15A17CF', 'T_MULCHEFEFIF014', 'T_NESTUDA_NTRAB_MMEIO', 'T_OCUPDESLOC_1', 'T_RMAXIDOSO', 'T_SLUZ', 'HOMEMTOT', 'MULHERTOT', 'pesoRUR', 'pesotot', 'pesourb', 'POP', 'IDHM', 'IDHM_E', 'IDHM_L', 'IDHM_R' \n",
        "idhm = pd.read_excel('https://github.com/mirianbatista/idhm-pb/blob/master/atlas2013_dadosbrutos_pt.xlsx?raw=true', sheet_name=1, usecols = indicadores, dtype = {'UF': str, 'Codmun7':str}) \n",
        "idhmpb = idhm.groupby(idhm['UF']).get_group('25').loc[(idhm['ANO'] == 2010)] \n",
        "get_covid = requests.get(\"https://brasil.io/api/dataset/covid19/caso/data/?search=&date=&state=PB&city=&place_type=&is_last=True&city_ibge_code=&order_for_place=\").json()\n",
        "covidpb = pd.DataFrame.from_dict(get_covid['results'])"
      ],
      "execution_count": null,
      "outputs": []
    },
    {
      "cell_type": "code",
      "metadata": {
        "id": "sQZcCJkbD6Sx",
        "outputId": "03ddfc49-fd03-4358-9eb7-d5325946605b",
        "colab": {
          "base_uri": "https://localhost:8080/",
          "height": 338
        }
      },
      "source": [
        "idhmcovidpb = pd.merge(idhmpb, covidpb, left_on=\"Codmun7\", right_on=\"city_ibge_code\", how=\"left\") \n",
        "idhmcovid = idhmcovidpb.loc[(idhmcovidpb['estimated_population_2019'] > 10000)]\n",
        "idhmcovid.head()"
      ],
      "execution_count": null,
      "outputs": [
        {
          "output_type": "execute_result",
          "data": {
            "text/html": [
              "<div>\n",
              "<style scoped>\n",
              "    .dataframe tbody tr th:only-of-type {\n",
              "        vertical-align: middle;\n",
              "    }\n",
              "\n",
              "    .dataframe tbody tr th {\n",
              "        vertical-align: top;\n",
              "    }\n",
              "\n",
              "    .dataframe thead th {\n",
              "        text-align: right;\n",
              "    }\n",
              "</style>\n",
              "<table border=\"1\" class=\"dataframe\">\n",
              "  <thead>\n",
              "    <tr style=\"text-align: right;\">\n",
              "      <th></th>\n",
              "      <th>ANO</th>\n",
              "      <th>UF</th>\n",
              "      <th>Codmun7</th>\n",
              "      <th>Município</th>\n",
              "      <th>ESPVIDA</th>\n",
              "      <th>FECTOT</th>\n",
              "      <th>MORT1</th>\n",
              "      <th>SOBRE60</th>\n",
              "      <th>T_ENV</th>\n",
              "      <th>E_ANOSESTUDO</th>\n",
              "      <th>T_ANALF11A14</th>\n",
              "      <th>T_ANALF25M</th>\n",
              "      <th>T_ATRASO_0_BASICO</th>\n",
              "      <th>T_ATRASO_2_BASICO</th>\n",
              "      <th>T_FLPRE</th>\n",
              "      <th>T_FLSUPER</th>\n",
              "      <th>T_FREQSUPER1517</th>\n",
              "      <th>T_MED25M</th>\n",
              "      <th>T_SUPER25M</th>\n",
              "      <th>GINI</th>\n",
              "      <th>PIND</th>\n",
              "      <th>PINDCRI</th>\n",
              "      <th>PMPOB</th>\n",
              "      <th>PMPOBCRI</th>\n",
              "      <th>RDPC</th>\n",
              "      <th>CPR</th>\n",
              "      <th>EMP</th>\n",
              "      <th>P_AGRO</th>\n",
              "      <th>P_COM</th>\n",
              "      <th>P_CONSTR</th>\n",
              "      <th>P_EXTR</th>\n",
              "      <th>P_FORMAL</th>\n",
              "      <th>P_FUND</th>\n",
              "      <th>P_MED</th>\n",
              "      <th>P_SERV</th>\n",
              "      <th>P_SIUP</th>\n",
              "      <th>P_SUPER</th>\n",
              "      <th>T_DES2529</th>\n",
              "      <th>TRABCC</th>\n",
              "      <th>TRABPUB</th>\n",
              "      <th>...</th>\n",
              "      <th>T_DENS</th>\n",
              "      <th>T_LIXO</th>\n",
              "      <th>T_LUZ</th>\n",
              "      <th>AGUA_ESGOTO</th>\n",
              "      <th>PAREDE</th>\n",
              "      <th>T_CRIFUNDIN_TODOS</th>\n",
              "      <th>T_FORA4A5</th>\n",
              "      <th>T_FORA6A14</th>\n",
              "      <th>T_FUNDIN_TODOS</th>\n",
              "      <th>T_FUNDIN_TODOS_MMEIO</th>\n",
              "      <th>T_FUNDIN18MINF</th>\n",
              "      <th>T_M10A14CF</th>\n",
              "      <th>T_M15A17CF</th>\n",
              "      <th>T_MULCHEFEFIF014</th>\n",
              "      <th>T_NESTUDA_NTRAB_MMEIO</th>\n",
              "      <th>T_OCUPDESLOC_1</th>\n",
              "      <th>T_RMAXIDOSO</th>\n",
              "      <th>T_SLUZ</th>\n",
              "      <th>HOMEMTOT</th>\n",
              "      <th>MULHERTOT</th>\n",
              "      <th>pesoRUR</th>\n",
              "      <th>pesotot</th>\n",
              "      <th>pesourb</th>\n",
              "      <th>POP</th>\n",
              "      <th>IDHM</th>\n",
              "      <th>IDHM_E</th>\n",
              "      <th>IDHM_L</th>\n",
              "      <th>IDHM_R</th>\n",
              "      <th>city</th>\n",
              "      <th>city_ibge_code</th>\n",
              "      <th>confirmed</th>\n",
              "      <th>confirmed_per_100k_inhabitants</th>\n",
              "      <th>date</th>\n",
              "      <th>death_rate</th>\n",
              "      <th>deaths</th>\n",
              "      <th>estimated_population_2019</th>\n",
              "      <th>is_last</th>\n",
              "      <th>order_for_place</th>\n",
              "      <th>place_type</th>\n",
              "      <th>state</th>\n",
              "    </tr>\n",
              "  </thead>\n",
              "  <tbody>\n",
              "    <tr>\n",
              "      <th>0</th>\n",
              "      <td>2010</td>\n",
              "      <td>25</td>\n",
              "      <td>2500106</td>\n",
              "      <td>ÁGUA BRANCA</td>\n",
              "      <td>67.72</td>\n",
              "      <td>1.87</td>\n",
              "      <td>34.9</td>\n",
              "      <td>77.84</td>\n",
              "      <td>8.52</td>\n",
              "      <td>7.87</td>\n",
              "      <td>3.99</td>\n",
              "      <td>35.20</td>\n",
              "      <td>45.98</td>\n",
              "      <td>28.01</td>\n",
              "      <td>51.70</td>\n",
              "      <td>8.44</td>\n",
              "      <td>0.00</td>\n",
              "      <td>15.29</td>\n",
              "      <td>3.86</td>\n",
              "      <td>0.54</td>\n",
              "      <td>29.14</td>\n",
              "      <td>36.15</td>\n",
              "      <td>46.27</td>\n",
              "      <td>59.27</td>\n",
              "      <td>233.65</td>\n",
              "      <td>17.42</td>\n",
              "      <td>0.51</td>\n",
              "      <td>43.92</td>\n",
              "      <td>9.24</td>\n",
              "      <td>10.26</td>\n",
              "      <td>0.0</td>\n",
              "      <td>28.33</td>\n",
              "      <td>35.28</td>\n",
              "      <td>24.48</td>\n",
              "      <td>30.61</td>\n",
              "      <td>2.88</td>\n",
              "      <td>5.58</td>\n",
              "      <td>7.38</td>\n",
              "      <td>12.25</td>\n",
              "      <td>13.24</td>\n",
              "      <td>...</td>\n",
              "      <td>31.17</td>\n",
              "      <td>98.53</td>\n",
              "      <td>99.44</td>\n",
              "      <td>17.55</td>\n",
              "      <td>0.16</td>\n",
              "      <td>51.54</td>\n",
              "      <td>30.01</td>\n",
              "      <td>2.41</td>\n",
              "      <td>43.35</td>\n",
              "      <td>32.62</td>\n",
              "      <td>64.23</td>\n",
              "      <td>0.88</td>\n",
              "      <td>4.67</td>\n",
              "      <td>28.02</td>\n",
              "      <td>26.04</td>\n",
              "      <td>0.77</td>\n",
              "      <td>6.50</td>\n",
              "      <td>0.56</td>\n",
              "      <td>4719</td>\n",
              "      <td>4730</td>\n",
              "      <td>5388</td>\n",
              "      <td>9449</td>\n",
              "      <td>4061</td>\n",
              "      <td>9444</td>\n",
              "      <td>0.572</td>\n",
              "      <td>0.484</td>\n",
              "      <td>0.712</td>\n",
              "      <td>0.542</td>\n",
              "      <td>Água Branca</td>\n",
              "      <td>2500106</td>\n",
              "      <td>75</td>\n",
              "      <td>732.85128</td>\n",
              "      <td>2020-10-05</td>\n",
              "      <td>0.0267</td>\n",
              "      <td>2</td>\n",
              "      <td>10234.0</td>\n",
              "      <td>True</td>\n",
              "      <td>136</td>\n",
              "      <td>city</td>\n",
              "      <td>PB</td>\n",
              "    </tr>\n",
              "    <tr>\n",
              "      <th>2</th>\n",
              "      <td>2010</td>\n",
              "      <td>25</td>\n",
              "      <td>2500304</td>\n",
              "      <td>ALAGOA GRANDE</td>\n",
              "      <td>72.83</td>\n",
              "      <td>2.52</td>\n",
              "      <td>19.5</td>\n",
              "      <td>86.44</td>\n",
              "      <td>10.74</td>\n",
              "      <td>7.78</td>\n",
              "      <td>8.09</td>\n",
              "      <td>43.82</td>\n",
              "      <td>37.98</td>\n",
              "      <td>38.69</td>\n",
              "      <td>59.27</td>\n",
              "      <td>7.71</td>\n",
              "      <td>0.46</td>\n",
              "      <td>14.49</td>\n",
              "      <td>2.91</td>\n",
              "      <td>0.53</td>\n",
              "      <td>17.77</td>\n",
              "      <td>27.59</td>\n",
              "      <td>39.36</td>\n",
              "      <td>58.80</td>\n",
              "      <td>287.94</td>\n",
              "      <td>24.93</td>\n",
              "      <td>1.52</td>\n",
              "      <td>42.22</td>\n",
              "      <td>11.78</td>\n",
              "      <td>7.19</td>\n",
              "      <td>0.0</td>\n",
              "      <td>24.91</td>\n",
              "      <td>32.12</td>\n",
              "      <td>22.78</td>\n",
              "      <td>32.44</td>\n",
              "      <td>0.96</td>\n",
              "      <td>4.45</td>\n",
              "      <td>11.59</td>\n",
              "      <td>15.32</td>\n",
              "      <td>6.54</td>\n",
              "      <td>...</td>\n",
              "      <td>36.22</td>\n",
              "      <td>91.89</td>\n",
              "      <td>98.76</td>\n",
              "      <td>15.94</td>\n",
              "      <td>7.38</td>\n",
              "      <td>58.79</td>\n",
              "      <td>21.59</td>\n",
              "      <td>2.64</td>\n",
              "      <td>53.56</td>\n",
              "      <td>41.88</td>\n",
              "      <td>67.82</td>\n",
              "      <td>0.00</td>\n",
              "      <td>6.35</td>\n",
              "      <td>37.45</td>\n",
              "      <td>24.33</td>\n",
              "      <td>3.16</td>\n",
              "      <td>7.51</td>\n",
              "      <td>1.24</td>\n",
              "      <td>13861</td>\n",
              "      <td>14618</td>\n",
              "      <td>10948</td>\n",
              "      <td>28479</td>\n",
              "      <td>17531</td>\n",
              "      <td>28432</td>\n",
              "      <td>0.582</td>\n",
              "      <td>0.430</td>\n",
              "      <td>0.797</td>\n",
              "      <td>0.576</td>\n",
              "      <td>Alagoa Grande</td>\n",
              "      <td>2500304</td>\n",
              "      <td>1596</td>\n",
              "      <td>5600.78608</td>\n",
              "      <td>2020-10-05</td>\n",
              "      <td>0.0175</td>\n",
              "      <td>28</td>\n",
              "      <td>28496.0</td>\n",
              "      <td>True</td>\n",
              "      <td>163</td>\n",
              "      <td>city</td>\n",
              "      <td>PB</td>\n",
              "    </tr>\n",
              "    <tr>\n",
              "      <th>3</th>\n",
              "      <td>2010</td>\n",
              "      <td>25</td>\n",
              "      <td>2500403</td>\n",
              "      <td>ALAGOA NOVA</td>\n",
              "      <td>69.93</td>\n",
              "      <td>2.01</td>\n",
              "      <td>27.6</td>\n",
              "      <td>81.72</td>\n",
              "      <td>9.52</td>\n",
              "      <td>8.97</td>\n",
              "      <td>4.65</td>\n",
              "      <td>36.49</td>\n",
              "      <td>48.69</td>\n",
              "      <td>31.53</td>\n",
              "      <td>69.02</td>\n",
              "      <td>8.57</td>\n",
              "      <td>0.33</td>\n",
              "      <td>12.40</td>\n",
              "      <td>3.79</td>\n",
              "      <td>0.54</td>\n",
              "      <td>21.43</td>\n",
              "      <td>35.28</td>\n",
              "      <td>43.82</td>\n",
              "      <td>63.23</td>\n",
              "      <td>272.81</td>\n",
              "      <td>30.22</td>\n",
              "      <td>0.47</td>\n",
              "      <td>51.10</td>\n",
              "      <td>11.14</td>\n",
              "      <td>4.15</td>\n",
              "      <td>0.0</td>\n",
              "      <td>24.88</td>\n",
              "      <td>30.97</td>\n",
              "      <td>18.46</td>\n",
              "      <td>26.39</td>\n",
              "      <td>0.28</td>\n",
              "      <td>4.86</td>\n",
              "      <td>8.60</td>\n",
              "      <td>11.50</td>\n",
              "      <td>9.96</td>\n",
              "      <td>...</td>\n",
              "      <td>32.26</td>\n",
              "      <td>99.12</td>\n",
              "      <td>99.66</td>\n",
              "      <td>27.20</td>\n",
              "      <td>0.61</td>\n",
              "      <td>61.70</td>\n",
              "      <td>12.92</td>\n",
              "      <td>2.15</td>\n",
              "      <td>51.86</td>\n",
              "      <td>40.57</td>\n",
              "      <td>67.40</td>\n",
              "      <td>0.43</td>\n",
              "      <td>7.92</td>\n",
              "      <td>23.47</td>\n",
              "      <td>20.49</td>\n",
              "      <td>1.14</td>\n",
              "      <td>6.32</td>\n",
              "      <td>0.34</td>\n",
              "      <td>9761</td>\n",
              "      <td>9920</td>\n",
              "      <td>9887</td>\n",
              "      <td>19681</td>\n",
              "      <td>9794</td>\n",
              "      <td>19674</td>\n",
              "      <td>0.576</td>\n",
              "      <td>0.451</td>\n",
              "      <td>0.749</td>\n",
              "      <td>0.567</td>\n",
              "      <td>Alagoa Nova</td>\n",
              "      <td>2500403</td>\n",
              "      <td>354</td>\n",
              "      <td>1697.92316</td>\n",
              "      <td>2020-10-05</td>\n",
              "      <td>0.0254</td>\n",
              "      <td>9</td>\n",
              "      <td>20849.0</td>\n",
              "      <td>True</td>\n",
              "      <td>165</td>\n",
              "      <td>city</td>\n",
              "      <td>PB</td>\n",
              "    </tr>\n",
              "    <tr>\n",
              "      <th>4</th>\n",
              "      <td>2010</td>\n",
              "      <td>25</td>\n",
              "      <td>2500502</td>\n",
              "      <td>ALAGOINHA</td>\n",
              "      <td>72.72</td>\n",
              "      <td>2.55</td>\n",
              "      <td>19.8</td>\n",
              "      <td>86.28</td>\n",
              "      <td>9.18</td>\n",
              "      <td>9.01</td>\n",
              "      <td>5.87</td>\n",
              "      <td>46.08</td>\n",
              "      <td>50.20</td>\n",
              "      <td>30.94</td>\n",
              "      <td>56.32</td>\n",
              "      <td>6.08</td>\n",
              "      <td>0.00</td>\n",
              "      <td>14.29</td>\n",
              "      <td>4.54</td>\n",
              "      <td>0.52</td>\n",
              "      <td>16.72</td>\n",
              "      <td>24.26</td>\n",
              "      <td>42.05</td>\n",
              "      <td>58.50</td>\n",
              "      <td>284.64</td>\n",
              "      <td>26.14</td>\n",
              "      <td>0.09</td>\n",
              "      <td>42.71</td>\n",
              "      <td>10.90</td>\n",
              "      <td>13.29</td>\n",
              "      <td>0.0</td>\n",
              "      <td>35.56</td>\n",
              "      <td>33.81</td>\n",
              "      <td>21.33</td>\n",
              "      <td>28.61</td>\n",
              "      <td>1.05</td>\n",
              "      <td>6.15</td>\n",
              "      <td>12.48</td>\n",
              "      <td>19.74</td>\n",
              "      <td>8.26</td>\n",
              "      <td>...</td>\n",
              "      <td>31.86</td>\n",
              "      <td>97.09</td>\n",
              "      <td>98.44</td>\n",
              "      <td>17.21</td>\n",
              "      <td>10.59</td>\n",
              "      <td>55.69</td>\n",
              "      <td>15.40</td>\n",
              "      <td>1.29</td>\n",
              "      <td>47.52</td>\n",
              "      <td>36.10</td>\n",
              "      <td>60.26</td>\n",
              "      <td>0.00</td>\n",
              "      <td>8.63</td>\n",
              "      <td>22.21</td>\n",
              "      <td>20.04</td>\n",
              "      <td>2.15</td>\n",
              "      <td>6.83</td>\n",
              "      <td>1.56</td>\n",
              "      <td>6704</td>\n",
              "      <td>6872</td>\n",
              "      <td>4542</td>\n",
              "      <td>13576</td>\n",
              "      <td>9034</td>\n",
              "      <td>13528</td>\n",
              "      <td>0.595</td>\n",
              "      <td>0.462</td>\n",
              "      <td>0.795</td>\n",
              "      <td>0.574</td>\n",
              "      <td>Alagoinha</td>\n",
              "      <td>2500502</td>\n",
              "      <td>1053</td>\n",
              "      <td>7267.58230</td>\n",
              "      <td>2020-10-05</td>\n",
              "      <td>0.0114</td>\n",
              "      <td>12</td>\n",
              "      <td>14489.0</td>\n",
              "      <td>True</td>\n",
              "      <td>153</td>\n",
              "      <td>city</td>\n",
              "      <td>PB</td>\n",
              "    </tr>\n",
              "    <tr>\n",
              "      <th>7</th>\n",
              "      <td>2010</td>\n",
              "      <td>25</td>\n",
              "      <td>2500601</td>\n",
              "      <td>ALHANDRA</td>\n",
              "      <td>71.69</td>\n",
              "      <td>2.71</td>\n",
              "      <td>22.5</td>\n",
              "      <td>84.65</td>\n",
              "      <td>5.68</td>\n",
              "      <td>8.67</td>\n",
              "      <td>7.26</td>\n",
              "      <td>33.51</td>\n",
              "      <td>51.18</td>\n",
              "      <td>29.21</td>\n",
              "      <td>48.67</td>\n",
              "      <td>2.12</td>\n",
              "      <td>0.00</td>\n",
              "      <td>16.36</td>\n",
              "      <td>1.82</td>\n",
              "      <td>0.45</td>\n",
              "      <td>17.03</td>\n",
              "      <td>24.40</td>\n",
              "      <td>39.52</td>\n",
              "      <td>53.94</td>\n",
              "      <td>236.14</td>\n",
              "      <td>23.50</td>\n",
              "      <td>0.28</td>\n",
              "      <td>34.31</td>\n",
              "      <td>12.41</td>\n",
              "      <td>8.83</td>\n",
              "      <td>0.0</td>\n",
              "      <td>36.59</td>\n",
              "      <td>37.87</td>\n",
              "      <td>25.93</td>\n",
              "      <td>37.03</td>\n",
              "      <td>1.05</td>\n",
              "      <td>2.95</td>\n",
              "      <td>17.82</td>\n",
              "      <td>30.13</td>\n",
              "      <td>4.53</td>\n",
              "      <td>...</td>\n",
              "      <td>35.30</td>\n",
              "      <td>90.73</td>\n",
              "      <td>99.00</td>\n",
              "      <td>10.31</td>\n",
              "      <td>10.58</td>\n",
              "      <td>52.90</td>\n",
              "      <td>21.36</td>\n",
              "      <td>3.69</td>\n",
              "      <td>46.95</td>\n",
              "      <td>36.64</td>\n",
              "      <td>60.05</td>\n",
              "      <td>0.00</td>\n",
              "      <td>8.77</td>\n",
              "      <td>21.13</td>\n",
              "      <td>29.18</td>\n",
              "      <td>1.57</td>\n",
              "      <td>5.21</td>\n",
              "      <td>1.00</td>\n",
              "      <td>8864</td>\n",
              "      <td>9143</td>\n",
              "      <td>6854</td>\n",
              "      <td>18007</td>\n",
              "      <td>11153</td>\n",
              "      <td>17891</td>\n",
              "      <td>0.582</td>\n",
              "      <td>0.465</td>\n",
              "      <td>0.778</td>\n",
              "      <td>0.544</td>\n",
              "      <td>Alhandra</td>\n",
              "      <td>2500601</td>\n",
              "      <td>666</td>\n",
              "      <td>3400.04084</td>\n",
              "      <td>2020-10-05</td>\n",
              "      <td>0.0270</td>\n",
              "      <td>18</td>\n",
              "      <td>19588.0</td>\n",
              "      <td>True</td>\n",
              "      <td>158</td>\n",
              "      <td>city</td>\n",
              "      <td>PB</td>\n",
              "    </tr>\n",
              "  </tbody>\n",
              "</table>\n",
              "<p>5 rows × 83 columns</p>\n",
              "</div>"
            ],
            "text/plain": [
              "    ANO  UF  Codmun7  ... order_for_place  place_type  state\n",
              "0  2010  25  2500106  ...             136        city     PB\n",
              "2  2010  25  2500304  ...             163        city     PB\n",
              "3  2010  25  2500403  ...             165        city     PB\n",
              "4  2010  25  2500502  ...             153        city     PB\n",
              "7  2010  25  2500601  ...             158        city     PB\n",
              "\n",
              "[5 rows x 83 columns]"
            ]
          },
          "metadata": {
            "tags": []
          },
          "execution_count": 3
        }
      ]
    },
    {
      "cell_type": "code",
      "metadata": {
        "id": "ZOr8ftkuECBG",
        "outputId": "eaee8e4f-873d-46d0-a977-7d411572e14c",
        "colab": {
          "base_uri": "https://localhost:8080/",
          "height": 542
        }
      },
      "source": [
        "correlacao_positiva = idhmcovid.corr().loc['death_rate'].sort_values(ascending=False).to_frame().reset_index().rename(columns = {'index': 'indicador'})[:10]\n",
        "fig = go.Figure(data=go.Scatter(x=correlacao_positiva['death_rate'], y=correlacao_positiva['indicador'], mode='markers', text=idhmcovid['Município'])) \n",
        "fig.update_layout(title=\"Indicadores do IDHM com maior correlação positiva de mortalidade de COVID-19\")\n",
        "fig.show()"
      ],
      "execution_count": null,
      "outputs": [
        {
          "output_type": "display_data",
          "data": {
            "text/html": [
              "<html>\n",
              "<head><meta charset=\"utf-8\" /></head>\n",
              "<body>\n",
              "    <div>\n",
              "            <script src=\"https://cdnjs.cloudflare.com/ajax/libs/mathjax/2.7.5/MathJax.js?config=TeX-AMS-MML_SVG\"></script><script type=\"text/javascript\">if (window.MathJax) {MathJax.Hub.Config({SVG: {font: \"STIX-Web\"}});}</script>\n",
              "                <script type=\"text/javascript\">window.PlotlyConfig = {MathJaxConfig: 'local'};</script>\n",
              "        <script src=\"https://cdn.plot.ly/plotly-latest.min.js\"></script>    \n",
              "            <div id=\"48f9bc17-79f7-4211-8013-38a02c7136a6\" class=\"plotly-graph-div\" style=\"height:525px; width:100%;\"></div>\n",
              "            <script type=\"text/javascript\">\n",
              "                \n",
              "                    window.PLOTLYENV=window.PLOTLYENV || {};\n",
              "                    \n",
              "                if (document.getElementById(\"48f9bc17-79f7-4211-8013-38a02c7136a6\")) {\n",
              "                    Plotly.newPlot(\n",
              "                        '48f9bc17-79f7-4211-8013-38a02c7136a6',\n",
              "                        [{\"mode\": \"markers\", \"text\": [\"\\u00c1GUA BRANCA\", \"ALAGOA GRANDE\", \"ALAGOA NOVA\", \"ALAGOINHA\", \"ALHANDRA\", \"S\\u00c3O JO\\u00c3O DO RIO DO PEIXE\", \"ARA\\u00c7AGI\", \"ARARA\", \"ARARUNA\", \"AREIA\", \"AROEIRAS\", \"BANANEIRAS\", \"BARRA DE SANTA ROSA\", \"BAYEUX\", \"BEL\\u00c9M\", \"BONITO DE SANTA F\\u00c9\", \"BOQUEIR\\u00c3O\", \"BREJO DO CRUZ\", \"CAAPOR\\u00c3\", \"CABEDELO\", \"CACHOEIRA DOS \\u00cdNDIOS\", \"CACIMBA DE DENTRO\", \"CAJAZEIRAS\", \"CAMPINA GRANDE\", \"CATOL\\u00c9 DO ROCHA\", \"CONCEI\\u00c7\\u00c3O\", \"CONDE\", \"COREMAS\", \"CRUZ DO ESP\\u00cdRITO SANTO\", \"CUIT\\u00c9\", \"DONA IN\\u00caS\", \"ESPERAN\\u00c7A\", \"FAGUNDES\", \"GUARABIRA\", \"GURINH\\u00c9M\", \"IMACULADA\", \"ING\\u00c1\", \"ITABAIANA\", \"ITAPORANGA\", \"ITAPOROROCA\", \"ITATUBA\", \"JACARA\\u00da\", \"JO\\u00c3O PESSOA\", \"JUAZEIRINHO\", \"JURIPIRANGA\", \"LAGOA SECA\", \"LUCENA\", \"MAMANGUAPE\", \"MANA\\u00cdRA\", \"MARI\", \"MASSARANDUBA\", \"MOGEIRO\", \"MONTEIRO\", \"NATUBA\", \"NOVA FLORESTA\", \"PATOS\", \"PAULISTA\", \"PEDRAS DE FOGO\", \"PIANC\\u00d3\", \"PICU\\u00cd\", \"PILAR\", \"PIRPIRITUBA\", \"PITIMBU\", \"POCINHOS\", \"POMBAL\", \"PRINCESA ISABEL\", \"PUXINAN\\u00c3\", \"QUEIMADAS\", \"REM\\u00cdGIO\", \"RIO TINTO\", \"SALGADO DE S\\u00c3O F\\u00c9LIX\", \"SANTA LUZIA\", \"SANTA RITA\", \"S\\u00c3O BENTO\", \"S\\u00c3O JOS\\u00c9 DE PIRANHAS\", \"S\\u00c3O SEBASTI\\u00c3O DE LAGOA DE RO\\u00c7A\", \"SAP\\u00c9\", \"SERID\\u00d3\", \"SERRA BRANCA\", \"SOL\\u00c2NEA\", \"SOLEDADE\", \"SOUSA\", \"SUM\\u00c9\", \"TACIMA\", \"TAPERO\\u00c1\", \"TAVARES\", \"TEIXEIRA\", \"UIRA\\u00daNA\"], \"type\": \"scatter\", \"x\": [1.0, 0.2846029625940751, 0.24137584784654612, 0.2365370132657133, 0.2152529658467878, 0.21387416958449781, 0.200514537903164, 0.17728105145986903, 0.17183389386832854, 0.16832853252658145], \"y\": [\"death_rate\", \"T_OCUPDESLOC_1\", \"TRABCC\", \"T_M10A14CF\", \"T_AGUA\", \"P_SERV\", \"P_FUND\", \"P_FORMAL\", \"T_ANALF11A14\", \"T_FORA6A14\"]}],\n",
              "                        {\"template\": {\"data\": {\"bar\": [{\"error_x\": {\"color\": \"#2a3f5f\"}, \"error_y\": {\"color\": \"#2a3f5f\"}, \"marker\": {\"line\": {\"color\": \"#E5ECF6\", \"width\": 0.5}}, \"type\": \"bar\"}], \"barpolar\": [{\"marker\": {\"line\": {\"color\": \"#E5ECF6\", \"width\": 0.5}}, \"type\": \"barpolar\"}], \"carpet\": [{\"aaxis\": {\"endlinecolor\": \"#2a3f5f\", \"gridcolor\": \"white\", \"linecolor\": \"white\", \"minorgridcolor\": \"white\", \"startlinecolor\": \"#2a3f5f\"}, \"baxis\": {\"endlinecolor\": \"#2a3f5f\", \"gridcolor\": \"white\", \"linecolor\": \"white\", \"minorgridcolor\": \"white\", \"startlinecolor\": \"#2a3f5f\"}, \"type\": \"carpet\"}], \"choropleth\": [{\"colorbar\": {\"outlinewidth\": 0, \"ticks\": \"\"}, \"type\": \"choropleth\"}], \"contour\": [{\"colorbar\": {\"outlinewidth\": 0, \"ticks\": \"\"}, \"colorscale\": [[0.0, \"#0d0887\"], [0.1111111111111111, \"#46039f\"], [0.2222222222222222, \"#7201a8\"], [0.3333333333333333, \"#9c179e\"], [0.4444444444444444, \"#bd3786\"], [0.5555555555555556, \"#d8576b\"], [0.6666666666666666, \"#ed7953\"], [0.7777777777777778, \"#fb9f3a\"], [0.8888888888888888, \"#fdca26\"], [1.0, \"#f0f921\"]], \"type\": \"contour\"}], \"contourcarpet\": [{\"colorbar\": {\"outlinewidth\": 0, \"ticks\": \"\"}, \"type\": \"contourcarpet\"}], \"heatmap\": [{\"colorbar\": {\"outlinewidth\": 0, \"ticks\": \"\"}, \"colorscale\": [[0.0, \"#0d0887\"], [0.1111111111111111, \"#46039f\"], [0.2222222222222222, \"#7201a8\"], [0.3333333333333333, \"#9c179e\"], [0.4444444444444444, \"#bd3786\"], [0.5555555555555556, \"#d8576b\"], [0.6666666666666666, \"#ed7953\"], [0.7777777777777778, \"#fb9f3a\"], [0.8888888888888888, \"#fdca26\"], [1.0, \"#f0f921\"]], \"type\": \"heatmap\"}], \"heatmapgl\": [{\"colorbar\": {\"outlinewidth\": 0, \"ticks\": \"\"}, \"colorscale\": [[0.0, \"#0d0887\"], [0.1111111111111111, \"#46039f\"], [0.2222222222222222, \"#7201a8\"], [0.3333333333333333, \"#9c179e\"], [0.4444444444444444, \"#bd3786\"], [0.5555555555555556, \"#d8576b\"], [0.6666666666666666, \"#ed7953\"], [0.7777777777777778, \"#fb9f3a\"], [0.8888888888888888, \"#fdca26\"], [1.0, \"#f0f921\"]], \"type\": \"heatmapgl\"}], \"histogram\": [{\"marker\": {\"colorbar\": {\"outlinewidth\": 0, \"ticks\": \"\"}}, \"type\": \"histogram\"}], \"histogram2d\": [{\"colorbar\": {\"outlinewidth\": 0, \"ticks\": \"\"}, \"colorscale\": [[0.0, \"#0d0887\"], [0.1111111111111111, \"#46039f\"], [0.2222222222222222, \"#7201a8\"], [0.3333333333333333, \"#9c179e\"], [0.4444444444444444, \"#bd3786\"], [0.5555555555555556, \"#d8576b\"], [0.6666666666666666, \"#ed7953\"], [0.7777777777777778, \"#fb9f3a\"], [0.8888888888888888, \"#fdca26\"], [1.0, \"#f0f921\"]], \"type\": \"histogram2d\"}], \"histogram2dcontour\": [{\"colorbar\": {\"outlinewidth\": 0, \"ticks\": \"\"}, \"colorscale\": [[0.0, \"#0d0887\"], [0.1111111111111111, \"#46039f\"], [0.2222222222222222, \"#7201a8\"], [0.3333333333333333, \"#9c179e\"], [0.4444444444444444, \"#bd3786\"], [0.5555555555555556, \"#d8576b\"], [0.6666666666666666, \"#ed7953\"], [0.7777777777777778, \"#fb9f3a\"], [0.8888888888888888, \"#fdca26\"], [1.0, \"#f0f921\"]], \"type\": \"histogram2dcontour\"}], \"mesh3d\": [{\"colorbar\": {\"outlinewidth\": 0, \"ticks\": \"\"}, \"type\": \"mesh3d\"}], \"parcoords\": [{\"line\": {\"colorbar\": {\"outlinewidth\": 0, \"ticks\": \"\"}}, \"type\": \"parcoords\"}], \"pie\": [{\"automargin\": true, \"type\": \"pie\"}], \"scatter\": [{\"marker\": {\"colorbar\": {\"outlinewidth\": 0, \"ticks\": \"\"}}, \"type\": \"scatter\"}], \"scatter3d\": [{\"line\": {\"colorbar\": {\"outlinewidth\": 0, \"ticks\": \"\"}}, \"marker\": {\"colorbar\": {\"outlinewidth\": 0, \"ticks\": \"\"}}, \"type\": \"scatter3d\"}], \"scattercarpet\": [{\"marker\": {\"colorbar\": {\"outlinewidth\": 0, \"ticks\": \"\"}}, \"type\": \"scattercarpet\"}], \"scattergeo\": [{\"marker\": {\"colorbar\": {\"outlinewidth\": 0, \"ticks\": \"\"}}, \"type\": \"scattergeo\"}], \"scattergl\": [{\"marker\": {\"colorbar\": {\"outlinewidth\": 0, \"ticks\": \"\"}}, \"type\": \"scattergl\"}], \"scattermapbox\": [{\"marker\": {\"colorbar\": {\"outlinewidth\": 0, \"ticks\": \"\"}}, \"type\": \"scattermapbox\"}], \"scatterpolar\": [{\"marker\": {\"colorbar\": {\"outlinewidth\": 0, \"ticks\": \"\"}}, \"type\": \"scatterpolar\"}], \"scatterpolargl\": [{\"marker\": {\"colorbar\": {\"outlinewidth\": 0, \"ticks\": \"\"}}, \"type\": \"scatterpolargl\"}], \"scatterternary\": [{\"marker\": {\"colorbar\": {\"outlinewidth\": 0, \"ticks\": \"\"}}, \"type\": \"scatterternary\"}], \"surface\": [{\"colorbar\": {\"outlinewidth\": 0, \"ticks\": \"\"}, \"colorscale\": [[0.0, \"#0d0887\"], [0.1111111111111111, \"#46039f\"], [0.2222222222222222, \"#7201a8\"], [0.3333333333333333, \"#9c179e\"], [0.4444444444444444, \"#bd3786\"], [0.5555555555555556, \"#d8576b\"], [0.6666666666666666, \"#ed7953\"], [0.7777777777777778, \"#fb9f3a\"], [0.8888888888888888, \"#fdca26\"], [1.0, \"#f0f921\"]], \"type\": \"surface\"}], \"table\": [{\"cells\": {\"fill\": {\"color\": \"#EBF0F8\"}, \"line\": {\"color\": \"white\"}}, \"header\": {\"fill\": {\"color\": \"#C8D4E3\"}, \"line\": {\"color\": \"white\"}}, \"type\": \"table\"}]}, \"layout\": {\"annotationdefaults\": {\"arrowcolor\": \"#2a3f5f\", \"arrowhead\": 0, \"arrowwidth\": 1}, \"coloraxis\": {\"colorbar\": {\"outlinewidth\": 0, \"ticks\": \"\"}}, \"colorscale\": {\"diverging\": [[0, \"#8e0152\"], [0.1, \"#c51b7d\"], [0.2, \"#de77ae\"], [0.3, \"#f1b6da\"], [0.4, \"#fde0ef\"], [0.5, \"#f7f7f7\"], [0.6, \"#e6f5d0\"], [0.7, \"#b8e186\"], [0.8, \"#7fbc41\"], [0.9, \"#4d9221\"], [1, \"#276419\"]], \"sequential\": [[0.0, \"#0d0887\"], [0.1111111111111111, \"#46039f\"], [0.2222222222222222, \"#7201a8\"], [0.3333333333333333, \"#9c179e\"], [0.4444444444444444, \"#bd3786\"], [0.5555555555555556, \"#d8576b\"], [0.6666666666666666, \"#ed7953\"], [0.7777777777777778, \"#fb9f3a\"], [0.8888888888888888, \"#fdca26\"], [1.0, \"#f0f921\"]], \"sequentialminus\": [[0.0, \"#0d0887\"], [0.1111111111111111, \"#46039f\"], [0.2222222222222222, \"#7201a8\"], [0.3333333333333333, \"#9c179e\"], [0.4444444444444444, \"#bd3786\"], [0.5555555555555556, \"#d8576b\"], [0.6666666666666666, \"#ed7953\"], [0.7777777777777778, \"#fb9f3a\"], [0.8888888888888888, \"#fdca26\"], [1.0, \"#f0f921\"]]}, \"colorway\": [\"#636efa\", \"#EF553B\", \"#00cc96\", \"#ab63fa\", \"#FFA15A\", \"#19d3f3\", \"#FF6692\", \"#B6E880\", \"#FF97FF\", \"#FECB52\"], \"font\": {\"color\": \"#2a3f5f\"}, \"geo\": {\"bgcolor\": \"white\", \"lakecolor\": \"white\", \"landcolor\": \"#E5ECF6\", \"showlakes\": true, \"showland\": true, \"subunitcolor\": \"white\"}, \"hoverlabel\": {\"align\": \"left\"}, \"hovermode\": \"closest\", \"mapbox\": {\"style\": \"light\"}, \"paper_bgcolor\": \"white\", \"plot_bgcolor\": \"#E5ECF6\", \"polar\": {\"angularaxis\": {\"gridcolor\": \"white\", \"linecolor\": \"white\", \"ticks\": \"\"}, \"bgcolor\": \"#E5ECF6\", \"radialaxis\": {\"gridcolor\": \"white\", \"linecolor\": \"white\", \"ticks\": \"\"}}, \"scene\": {\"xaxis\": {\"backgroundcolor\": \"#E5ECF6\", \"gridcolor\": \"white\", \"gridwidth\": 2, \"linecolor\": \"white\", \"showbackground\": true, \"ticks\": \"\", \"zerolinecolor\": \"white\"}, \"yaxis\": {\"backgroundcolor\": \"#E5ECF6\", \"gridcolor\": \"white\", \"gridwidth\": 2, \"linecolor\": \"white\", \"showbackground\": true, \"ticks\": \"\", \"zerolinecolor\": \"white\"}, \"zaxis\": {\"backgroundcolor\": \"#E5ECF6\", \"gridcolor\": \"white\", \"gridwidth\": 2, \"linecolor\": \"white\", \"showbackground\": true, \"ticks\": \"\", \"zerolinecolor\": \"white\"}}, \"shapedefaults\": {\"line\": {\"color\": \"#2a3f5f\"}}, \"ternary\": {\"aaxis\": {\"gridcolor\": \"white\", \"linecolor\": \"white\", \"ticks\": \"\"}, \"baxis\": {\"gridcolor\": \"white\", \"linecolor\": \"white\", \"ticks\": \"\"}, \"bgcolor\": \"#E5ECF6\", \"caxis\": {\"gridcolor\": \"white\", \"linecolor\": \"white\", \"ticks\": \"\"}}, \"title\": {\"x\": 0.05}, \"xaxis\": {\"automargin\": true, \"gridcolor\": \"white\", \"linecolor\": \"white\", \"ticks\": \"\", \"title\": {\"standoff\": 15}, \"zerolinecolor\": \"white\", \"zerolinewidth\": 2}, \"yaxis\": {\"automargin\": true, \"gridcolor\": \"white\", \"linecolor\": \"white\", \"ticks\": \"\", \"title\": {\"standoff\": 15}, \"zerolinecolor\": \"white\", \"zerolinewidth\": 2}}}, \"title\": {\"text\": \"Indicadores do IDHM com maior correla\\u00e7\\u00e3o positiva de mortalidade de COVID-19\"}},\n",
              "                        {\"responsive\": true}\n",
              "                    ).then(function(){\n",
              "                            \n",
              "var gd = document.getElementById('48f9bc17-79f7-4211-8013-38a02c7136a6');\n",
              "var x = new MutationObserver(function (mutations, observer) {{\n",
              "        var display = window.getComputedStyle(gd).display;\n",
              "        if (!display || display === 'none') {{\n",
              "            console.log([gd, 'removed!']);\n",
              "            Plotly.purge(gd);\n",
              "            observer.disconnect();\n",
              "        }}\n",
              "}});\n",
              "\n",
              "// Listen for the removal of the full notebook cells\n",
              "var notebookContainer = gd.closest('#notebook-container');\n",
              "if (notebookContainer) {{\n",
              "    x.observe(notebookContainer, {childList: true});\n",
              "}}\n",
              "\n",
              "// Listen for the clearing of the current output cell\n",
              "var outputEl = gd.closest('.output');\n",
              "if (outputEl) {{\n",
              "    x.observe(outputEl, {childList: true});\n",
              "}}\n",
              "\n",
              "                        })\n",
              "                };\n",
              "                \n",
              "            </script>\n",
              "        </div>\n",
              "</body>\n",
              "</html>"
            ]
          },
          "metadata": {
            "tags": []
          }
        }
      ]
    },
    {
      "cell_type": "code",
      "metadata": {
        "id": "wyUO4AFJEfQB"
      },
      "source": [
        "corr_positiva= idhmcovid[['T_OCUPDESLOC_1','TRABCC','T_M10A14CF','T_AGUA','P_SERV']]\n",
        "mortalidade = idhmcovid.death_rate"
      ],
      "execution_count": null,
      "outputs": []
    },
    {
      "cell_type": "code",
      "metadata": {
        "id": "ye5DOSzMFxJ6"
      },
      "source": [
        "xtrain_corr_positiva, xtest_corr_positiva, ytrain_corr_positiva, ytest_corr_positiva = train_test_split(corr_positiva, mortalidade, test_size=0.4, random_state=42)"
      ],
      "execution_count": null,
      "outputs": []
    },
    {
      "cell_type": "code",
      "metadata": {
        "id": "bEzDwJeCG0Ge",
        "outputId": "49497f70-1315-4a93-c742-74c4e2242c02",
        "colab": {
          "base_uri": "https://localhost:8080/"
        }
      },
      "source": [
        "linreg_corr_positiva = LinearRegression()\n",
        "linreg_corr_positiva.fit(xtrain_corr_positiva, ytrain_corr_positiva)\n",
        "print('linear model coeff (w): {}'\n",
        ".format(linreg_corr_positiva.coef_))\n",
        "print('linear model intercept (b): {:.3f}'\n",
        ".format(linreg_corr_positiva.intercept_))\n",
        "print('R-squared score (training): {:.3f}'\n",
        ".format(linreg_corr_positiva.score(xtrain_corr_positiva, ytrain_corr_positiva)))\n",
        "print('R-squared score (test): {:.3f}'\n",
        ".format(linreg_corr_positiva.score(xtest_corr_positiva, ytest_corr_positiva)))"
      ],
      "execution_count": null,
      "outputs": [
        {
          "output_type": "stream",
          "text": [
            "linear model coeff (w): [3.38745064e-03 2.25599182e-04 7.85402194e-03 8.63584149e-05\n",
            " 2.14484624e-04]\n",
            "linear model intercept (b): -0.005\n",
            "R-squared score (training): 0.257\n",
            "R-squared score (test): -0.142\n"
          ],
          "name": "stdout"
        }
      ]
    },
    {
      "cell_type": "code",
      "metadata": {
        "id": "Fh6_1k9hG0Oe",
        "outputId": "5dde1b34-5057-408f-ae52-89ceef9a499a",
        "colab": {
          "base_uri": "https://localhost:8080/"
        }
      },
      "source": [
        "ipred_corr_positiva = linreg_corr_positiva.predict(xtest_corr_positiva)\n",
        "print('Mean squared error: %.2f'\n",
        "      % mean_squared_error(ytest_corr_positiva, ipred_corr_positiva))\n",
        "print('Coefficient of determination: %.2f'\n",
        "      % r2_score(ytest_corr_positiva, ipred_corr_positiva))"
      ],
      "execution_count": null,
      "outputs": [
        {
          "output_type": "stream",
          "text": [
            "Mean squared error: 0.00\n",
            "Coefficient of determination: -0.14\n"
          ],
          "name": "stdout"
        }
      ]
    },
    {
      "cell_type": "code",
      "metadata": {
        "id": "LuvqQ5j3G0Q7",
        "outputId": "ca29decc-c2f0-441a-ffb2-ddb13c1e661a",
        "colab": {
          "base_uri": "https://localhost:8080/",
          "height": 542
        }
      },
      "source": [
        "fig = go.Figure(data=go.Scatter(x=ytest_corr_positiva, y=ipred_corr_positiva, mode='markers', text=idhmcovid['Município'])) \n",
        "fig.update_layout(title=\"Valores reais e previstos de correlação positiva de mortalidade de COVID-19\")\n",
        "fig.show()"
      ],
      "execution_count": null,
      "outputs": [
        {
          "output_type": "display_data",
          "data": {
            "text/html": [
              "<html>\n",
              "<head><meta charset=\"utf-8\" /></head>\n",
              "<body>\n",
              "    <div>\n",
              "            <script src=\"https://cdnjs.cloudflare.com/ajax/libs/mathjax/2.7.5/MathJax.js?config=TeX-AMS-MML_SVG\"></script><script type=\"text/javascript\">if (window.MathJax) {MathJax.Hub.Config({SVG: {font: \"STIX-Web\"}});}</script>\n",
              "                <script type=\"text/javascript\">window.PlotlyConfig = {MathJaxConfig: 'local'};</script>\n",
              "        <script src=\"https://cdn.plot.ly/plotly-latest.min.js\"></script>    \n",
              "            <div id=\"a31be9f5-0e38-42e3-9f28-3a6dab4680ce\" class=\"plotly-graph-div\" style=\"height:525px; width:100%;\"></div>\n",
              "            <script type=\"text/javascript\">\n",
              "                \n",
              "                    window.PLOTLYENV=window.PLOTLYENV || {};\n",
              "                    \n",
              "                if (document.getElementById(\"a31be9f5-0e38-42e3-9f28-3a6dab4680ce\")) {\n",
              "                    Plotly.newPlot(\n",
              "                        'a31be9f5-0e38-42e3-9f28-3a6dab4680ce',\n",
              "                        [{\"mode\": \"markers\", \"text\": [\"\\u00c1GUA BRANCA\", \"ALAGOA GRANDE\", \"ALAGOA NOVA\", \"ALAGOINHA\", \"ALHANDRA\", \"S\\u00c3O JO\\u00c3O DO RIO DO PEIXE\", \"ARA\\u00c7AGI\", \"ARARA\", \"ARARUNA\", \"AREIA\", \"AROEIRAS\", \"BANANEIRAS\", \"BARRA DE SANTA ROSA\", \"BAYEUX\", \"BEL\\u00c9M\", \"BONITO DE SANTA F\\u00c9\", \"BOQUEIR\\u00c3O\", \"BREJO DO CRUZ\", \"CAAPOR\\u00c3\", \"CABEDELO\", \"CACHOEIRA DOS \\u00cdNDIOS\", \"CACIMBA DE DENTRO\", \"CAJAZEIRAS\", \"CAMPINA GRANDE\", \"CATOL\\u00c9 DO ROCHA\", \"CONCEI\\u00c7\\u00c3O\", \"CONDE\", \"COREMAS\", \"CRUZ DO ESP\\u00cdRITO SANTO\", \"CUIT\\u00c9\", \"DONA IN\\u00caS\", \"ESPERAN\\u00c7A\", \"FAGUNDES\", \"GUARABIRA\", \"GURINH\\u00c9M\", \"IMACULADA\", \"ING\\u00c1\", \"ITABAIANA\", \"ITAPORANGA\", \"ITAPOROROCA\", \"ITATUBA\", \"JACARA\\u00da\", \"JO\\u00c3O PESSOA\", \"JUAZEIRINHO\", \"JURIPIRANGA\", \"LAGOA SECA\", \"LUCENA\", \"MAMANGUAPE\", \"MANA\\u00cdRA\", \"MARI\", \"MASSARANDUBA\", \"MOGEIRO\", \"MONTEIRO\", \"NATUBA\", \"NOVA FLORESTA\", \"PATOS\", \"PAULISTA\", \"PEDRAS DE FOGO\", \"PIANC\\u00d3\", \"PICU\\u00cd\", \"PILAR\", \"PIRPIRITUBA\", \"PITIMBU\", \"POCINHOS\", \"POMBAL\", \"PRINCESA ISABEL\", \"PUXINAN\\u00c3\", \"QUEIMADAS\", \"REM\\u00cdGIO\", \"RIO TINTO\", \"SALGADO DE S\\u00c3O F\\u00c9LIX\", \"SANTA LUZIA\", \"SANTA RITA\", \"S\\u00c3O BENTO\", \"S\\u00c3O JOS\\u00c9 DE PIRANHAS\", \"S\\u00c3O SEBASTI\\u00c3O DE LAGOA DE RO\\u00c7A\", \"SAP\\u00c9\", \"SERID\\u00d3\", \"SERRA BRANCA\", \"SOL\\u00c2NEA\", \"SOLEDADE\", \"SOUSA\", \"SUM\\u00c9\", \"TACIMA\", \"TAPERO\\u00c1\", \"TAVARES\", \"TEIXEIRA\", \"UIRA\\u00daNA\"], \"type\": \"scatter\", \"x\": [0.0454, 0.0267, 0.0178, 0.0223, 0.0085, 0.0125, 0.0045, 0.0162, 0.027, 0.0158, 0.0099, 0.045, 0.0215, 0.0044, 0.0161, 0.0077, 0.0158, 0.0122, 0.0202, 0.0113, 0.0046, 0.0163, 0.0137, 0.0474, 0.0098, 0.0064, 0.0123, 0.0095, 0.0139, 0.0, 0.0221, 0.0175, 0.0172, 0.0303, 0.0179, 0.0258], \"y\": [0.023685714434189795, 0.019642317046893617, 0.02380255249646003, 0.019264102522904683, 0.013673266546059111, 0.019076067443158533, 0.011704378908406029, 0.033988892385643184, 0.023154621832711227, 0.017278982330051946, 0.01507854466085198, 0.016696334345670343, 0.020473255996919286, 0.014938930589882889, 0.0203846833578193, 0.016606184576794258, 0.033991572222112805, 0.024765919915629223, 0.020494851000175722, 0.0099142688040456, 0.016591668374407835, 0.009068261268798075, 0.021702496558900636, 0.028849123610374297, 0.018631253412701266, 0.017504800733265213, 0.014264473909817298, 0.03654979222497927, 0.021700300584631644, 0.013372840967212859, 0.01588511341227315, 0.025785771302193953, 0.028744171550784084, 0.03297643303696855, 0.03477762484824025, 0.015295682931930357]}],\n",
              "                        {\"template\": {\"data\": {\"bar\": [{\"error_x\": {\"color\": \"#2a3f5f\"}, \"error_y\": {\"color\": \"#2a3f5f\"}, \"marker\": {\"line\": {\"color\": \"#E5ECF6\", \"width\": 0.5}}, \"type\": \"bar\"}], \"barpolar\": [{\"marker\": {\"line\": {\"color\": \"#E5ECF6\", \"width\": 0.5}}, \"type\": \"barpolar\"}], \"carpet\": [{\"aaxis\": {\"endlinecolor\": \"#2a3f5f\", \"gridcolor\": \"white\", \"linecolor\": \"white\", \"minorgridcolor\": \"white\", \"startlinecolor\": \"#2a3f5f\"}, \"baxis\": {\"endlinecolor\": \"#2a3f5f\", \"gridcolor\": \"white\", \"linecolor\": \"white\", \"minorgridcolor\": \"white\", \"startlinecolor\": \"#2a3f5f\"}, \"type\": \"carpet\"}], \"choropleth\": [{\"colorbar\": {\"outlinewidth\": 0, \"ticks\": \"\"}, \"type\": \"choropleth\"}], \"contour\": [{\"colorbar\": {\"outlinewidth\": 0, \"ticks\": \"\"}, \"colorscale\": [[0.0, \"#0d0887\"], [0.1111111111111111, \"#46039f\"], [0.2222222222222222, \"#7201a8\"], [0.3333333333333333, \"#9c179e\"], [0.4444444444444444, \"#bd3786\"], [0.5555555555555556, \"#d8576b\"], [0.6666666666666666, \"#ed7953\"], [0.7777777777777778, \"#fb9f3a\"], [0.8888888888888888, \"#fdca26\"], [1.0, \"#f0f921\"]], \"type\": \"contour\"}], \"contourcarpet\": [{\"colorbar\": {\"outlinewidth\": 0, \"ticks\": \"\"}, \"type\": \"contourcarpet\"}], \"heatmap\": [{\"colorbar\": {\"outlinewidth\": 0, \"ticks\": \"\"}, \"colorscale\": [[0.0, \"#0d0887\"], [0.1111111111111111, \"#46039f\"], [0.2222222222222222, \"#7201a8\"], [0.3333333333333333, \"#9c179e\"], [0.4444444444444444, \"#bd3786\"], [0.5555555555555556, \"#d8576b\"], [0.6666666666666666, \"#ed7953\"], [0.7777777777777778, \"#fb9f3a\"], [0.8888888888888888, \"#fdca26\"], [1.0, \"#f0f921\"]], \"type\": \"heatmap\"}], \"heatmapgl\": [{\"colorbar\": {\"outlinewidth\": 0, \"ticks\": \"\"}, \"colorscale\": [[0.0, \"#0d0887\"], [0.1111111111111111, \"#46039f\"], [0.2222222222222222, \"#7201a8\"], [0.3333333333333333, \"#9c179e\"], [0.4444444444444444, \"#bd3786\"], [0.5555555555555556, \"#d8576b\"], [0.6666666666666666, \"#ed7953\"], [0.7777777777777778, \"#fb9f3a\"], [0.8888888888888888, \"#fdca26\"], [1.0, \"#f0f921\"]], \"type\": \"heatmapgl\"}], \"histogram\": [{\"marker\": {\"colorbar\": {\"outlinewidth\": 0, \"ticks\": \"\"}}, \"type\": \"histogram\"}], \"histogram2d\": [{\"colorbar\": {\"outlinewidth\": 0, \"ticks\": \"\"}, \"colorscale\": [[0.0, \"#0d0887\"], [0.1111111111111111, \"#46039f\"], [0.2222222222222222, \"#7201a8\"], [0.3333333333333333, \"#9c179e\"], [0.4444444444444444, \"#bd3786\"], [0.5555555555555556, \"#d8576b\"], [0.6666666666666666, \"#ed7953\"], [0.7777777777777778, \"#fb9f3a\"], [0.8888888888888888, \"#fdca26\"], [1.0, \"#f0f921\"]], \"type\": \"histogram2d\"}], \"histogram2dcontour\": [{\"colorbar\": {\"outlinewidth\": 0, \"ticks\": \"\"}, \"colorscale\": [[0.0, \"#0d0887\"], [0.1111111111111111, \"#46039f\"], [0.2222222222222222, \"#7201a8\"], [0.3333333333333333, \"#9c179e\"], [0.4444444444444444, \"#bd3786\"], [0.5555555555555556, \"#d8576b\"], [0.6666666666666666, \"#ed7953\"], [0.7777777777777778, \"#fb9f3a\"], [0.8888888888888888, \"#fdca26\"], [1.0, \"#f0f921\"]], \"type\": \"histogram2dcontour\"}], \"mesh3d\": [{\"colorbar\": {\"outlinewidth\": 0, \"ticks\": \"\"}, \"type\": \"mesh3d\"}], \"parcoords\": [{\"line\": {\"colorbar\": {\"outlinewidth\": 0, \"ticks\": \"\"}}, \"type\": \"parcoords\"}], \"pie\": [{\"automargin\": true, \"type\": \"pie\"}], \"scatter\": [{\"marker\": {\"colorbar\": {\"outlinewidth\": 0, \"ticks\": \"\"}}, \"type\": \"scatter\"}], \"scatter3d\": [{\"line\": {\"colorbar\": {\"outlinewidth\": 0, \"ticks\": \"\"}}, \"marker\": {\"colorbar\": {\"outlinewidth\": 0, \"ticks\": \"\"}}, \"type\": \"scatter3d\"}], \"scattercarpet\": [{\"marker\": {\"colorbar\": {\"outlinewidth\": 0, \"ticks\": \"\"}}, \"type\": \"scattercarpet\"}], \"scattergeo\": [{\"marker\": {\"colorbar\": {\"outlinewidth\": 0, \"ticks\": \"\"}}, \"type\": \"scattergeo\"}], \"scattergl\": [{\"marker\": {\"colorbar\": {\"outlinewidth\": 0, \"ticks\": \"\"}}, \"type\": \"scattergl\"}], \"scattermapbox\": [{\"marker\": {\"colorbar\": {\"outlinewidth\": 0, \"ticks\": \"\"}}, \"type\": \"scattermapbox\"}], \"scatterpolar\": [{\"marker\": {\"colorbar\": {\"outlinewidth\": 0, \"ticks\": \"\"}}, \"type\": \"scatterpolar\"}], \"scatterpolargl\": [{\"marker\": {\"colorbar\": {\"outlinewidth\": 0, \"ticks\": \"\"}}, \"type\": \"scatterpolargl\"}], \"scatterternary\": [{\"marker\": {\"colorbar\": {\"outlinewidth\": 0, \"ticks\": \"\"}}, \"type\": \"scatterternary\"}], \"surface\": [{\"colorbar\": {\"outlinewidth\": 0, \"ticks\": \"\"}, \"colorscale\": [[0.0, \"#0d0887\"], [0.1111111111111111, \"#46039f\"], [0.2222222222222222, \"#7201a8\"], [0.3333333333333333, \"#9c179e\"], [0.4444444444444444, \"#bd3786\"], [0.5555555555555556, \"#d8576b\"], [0.6666666666666666, \"#ed7953\"], [0.7777777777777778, \"#fb9f3a\"], [0.8888888888888888, \"#fdca26\"], [1.0, \"#f0f921\"]], \"type\": \"surface\"}], \"table\": [{\"cells\": {\"fill\": {\"color\": \"#EBF0F8\"}, \"line\": {\"color\": \"white\"}}, \"header\": {\"fill\": {\"color\": \"#C8D4E3\"}, \"line\": {\"color\": \"white\"}}, \"type\": \"table\"}]}, \"layout\": {\"annotationdefaults\": {\"arrowcolor\": \"#2a3f5f\", \"arrowhead\": 0, \"arrowwidth\": 1}, \"coloraxis\": {\"colorbar\": {\"outlinewidth\": 0, \"ticks\": \"\"}}, \"colorscale\": {\"diverging\": [[0, \"#8e0152\"], [0.1, \"#c51b7d\"], [0.2, \"#de77ae\"], [0.3, \"#f1b6da\"], [0.4, \"#fde0ef\"], [0.5, \"#f7f7f7\"], [0.6, \"#e6f5d0\"], [0.7, \"#b8e186\"], [0.8, \"#7fbc41\"], [0.9, \"#4d9221\"], [1, \"#276419\"]], \"sequential\": [[0.0, \"#0d0887\"], [0.1111111111111111, \"#46039f\"], [0.2222222222222222, \"#7201a8\"], [0.3333333333333333, \"#9c179e\"], [0.4444444444444444, \"#bd3786\"], [0.5555555555555556, \"#d8576b\"], [0.6666666666666666, \"#ed7953\"], [0.7777777777777778, \"#fb9f3a\"], [0.8888888888888888, \"#fdca26\"], [1.0, \"#f0f921\"]], \"sequentialminus\": [[0.0, \"#0d0887\"], [0.1111111111111111, \"#46039f\"], [0.2222222222222222, \"#7201a8\"], [0.3333333333333333, \"#9c179e\"], [0.4444444444444444, \"#bd3786\"], [0.5555555555555556, \"#d8576b\"], [0.6666666666666666, \"#ed7953\"], [0.7777777777777778, \"#fb9f3a\"], [0.8888888888888888, \"#fdca26\"], [1.0, \"#f0f921\"]]}, \"colorway\": [\"#636efa\", \"#EF553B\", \"#00cc96\", \"#ab63fa\", \"#FFA15A\", \"#19d3f3\", \"#FF6692\", \"#B6E880\", \"#FF97FF\", \"#FECB52\"], \"font\": {\"color\": \"#2a3f5f\"}, \"geo\": {\"bgcolor\": \"white\", \"lakecolor\": \"white\", \"landcolor\": \"#E5ECF6\", \"showlakes\": true, \"showland\": true, \"subunitcolor\": \"white\"}, \"hoverlabel\": {\"align\": \"left\"}, \"hovermode\": \"closest\", \"mapbox\": {\"style\": \"light\"}, \"paper_bgcolor\": \"white\", \"plot_bgcolor\": \"#E5ECF6\", \"polar\": {\"angularaxis\": {\"gridcolor\": \"white\", \"linecolor\": \"white\", \"ticks\": \"\"}, \"bgcolor\": \"#E5ECF6\", \"radialaxis\": {\"gridcolor\": \"white\", \"linecolor\": \"white\", \"ticks\": \"\"}}, \"scene\": {\"xaxis\": {\"backgroundcolor\": \"#E5ECF6\", \"gridcolor\": \"white\", \"gridwidth\": 2, \"linecolor\": \"white\", \"showbackground\": true, \"ticks\": \"\", \"zerolinecolor\": \"white\"}, \"yaxis\": {\"backgroundcolor\": \"#E5ECF6\", \"gridcolor\": \"white\", \"gridwidth\": 2, \"linecolor\": \"white\", \"showbackground\": true, \"ticks\": \"\", \"zerolinecolor\": \"white\"}, \"zaxis\": {\"backgroundcolor\": \"#E5ECF6\", \"gridcolor\": \"white\", \"gridwidth\": 2, \"linecolor\": \"white\", \"showbackground\": true, \"ticks\": \"\", \"zerolinecolor\": \"white\"}}, \"shapedefaults\": {\"line\": {\"color\": \"#2a3f5f\"}}, \"ternary\": {\"aaxis\": {\"gridcolor\": \"white\", \"linecolor\": \"white\", \"ticks\": \"\"}, \"baxis\": {\"gridcolor\": \"white\", \"linecolor\": \"white\", \"ticks\": \"\"}, \"bgcolor\": \"#E5ECF6\", \"caxis\": {\"gridcolor\": \"white\", \"linecolor\": \"white\", \"ticks\": \"\"}}, \"title\": {\"x\": 0.05}, \"xaxis\": {\"automargin\": true, \"gridcolor\": \"white\", \"linecolor\": \"white\", \"ticks\": \"\", \"title\": {\"standoff\": 15}, \"zerolinecolor\": \"white\", \"zerolinewidth\": 2}, \"yaxis\": {\"automargin\": true, \"gridcolor\": \"white\", \"linecolor\": \"white\", \"ticks\": \"\", \"title\": {\"standoff\": 15}, \"zerolinecolor\": \"white\", \"zerolinewidth\": 2}}}, \"title\": {\"text\": \"Valores reais e previstos de correla\\u00e7\\u00e3o positiva de mortalidade de COVID-19\"}},\n",
              "                        {\"responsive\": true}\n",
              "                    ).then(function(){\n",
              "                            \n",
              "var gd = document.getElementById('a31be9f5-0e38-42e3-9f28-3a6dab4680ce');\n",
              "var x = new MutationObserver(function (mutations, observer) {{\n",
              "        var display = window.getComputedStyle(gd).display;\n",
              "        if (!display || display === 'none') {{\n",
              "            console.log([gd, 'removed!']);\n",
              "            Plotly.purge(gd);\n",
              "            observer.disconnect();\n",
              "        }}\n",
              "}});\n",
              "\n",
              "// Listen for the removal of the full notebook cells\n",
              "var notebookContainer = gd.closest('#notebook-container');\n",
              "if (notebookContainer) {{\n",
              "    x.observe(notebookContainer, {childList: true});\n",
              "}}\n",
              "\n",
              "// Listen for the clearing of the current output cell\n",
              "var outputEl = gd.closest('.output');\n",
              "if (outputEl) {{\n",
              "    x.observe(outputEl, {childList: true});\n",
              "}}\n",
              "\n",
              "                        })\n",
              "                };\n",
              "                \n",
              "            </script>\n",
              "        </div>\n",
              "</body>\n",
              "</html>"
            ]
          },
          "metadata": {
            "tags": []
          }
        }
      ]
    },
    {
      "cell_type": "code",
      "metadata": {
        "id": "RMJTOy55IKZU",
        "outputId": "63e3cb08-e39b-4bea-b6d6-6ed9a659765d",
        "colab": {
          "base_uri": "https://localhost:8080/",
          "height": 383
        }
      },
      "source": [
        "df_corr_positiva = pd.DataFrame ({'Real': ytest_corr_positiva, 'Previsto': ipred_corr_positiva}) \n",
        "sns.lmplot(x=\"Real\", y=\"Previsto\", data=df_corr_positiva);"
      ],
      "execution_count": null,
      "outputs": [
        {
          "output_type": "display_data",
          "data": {
            "image/png": "[encoded data removed]",
            "text/plain": [
              "<Figure size 360x360 with 1 Axes>"
            ]
          },
          "metadata": {
            "tags": [],
            "needs_background": "light"
          }
        }
      ]
    },
    {
      "cell_type": "code",
      "metadata": {
        "id": "mVwn7u6OESQS",
        "outputId": "01de2c6d-80e5-4465-a134-74d13eeba9ce",
        "colab": {
          "base_uri": "https://localhost:8080/",
          "height": 542
        }
      },
      "source": [
        "correlacao_negativa = idhmcovid.corr().loc['death_rate'].sort_values().to_frame().reset_index().rename(columns = {'index': 'indicador'})[:10]\n",
        "fig = go.Figure(data=go.Scatter(x=correlacao_negativa['death_rate'], y=correlacao_negativa['indicador'], mode='markers', text=idhmcovid['Município'])) \n",
        "fig.update_layout(title=\"Indicadores do IDHM com maior correlação negativa de mortalidade de COVID-19\")\n",
        "fig.show()"
      ],
      "execution_count": null,
      "outputs": [
        {
          "output_type": "display_data",
          "data": {
            "text/html": [
              "<html>\n",
              "<head><meta charset=\"utf-8\" /></head>\n",
              "<body>\n",
              "    <div>\n",
              "            <script src=\"https://cdnjs.cloudflare.com/ajax/libs/mathjax/2.7.5/MathJax.js?config=TeX-AMS-MML_SVG\"></script><script type=\"text/javascript\">if (window.MathJax) {MathJax.Hub.Config({SVG: {font: \"STIX-Web\"}});}</script>\n",
              "                <script type=\"text/javascript\">window.PlotlyConfig = {MathJaxConfig: 'local'};</script>\n",
              "        <script src=\"https://cdn.plot.ly/plotly-latest.min.js\"></script>    \n",
              "            <div id=\"f3eae1da-0231-4d13-858a-22ccd1b299b6\" class=\"plotly-graph-div\" style=\"height:525px; width:100%;\"></div>\n",
              "            <script type=\"text/javascript\">\n",
              "                \n",
              "                    window.PLOTLYENV=window.PLOTLYENV || {};\n",
              "                    \n",
              "                if (document.getElementById(\"f3eae1da-0231-4d13-858a-22ccd1b299b6\")) {\n",
              "                    Plotly.newPlot(\n",
              "                        'f3eae1da-0231-4d13-858a-22ccd1b299b6',\n",
              "                        [{\"mode\": \"markers\", \"text\": [\"\\u00c1GUA BRANCA\", \"ALAGOA GRANDE\", \"ALAGOA NOVA\", \"ALAGOINHA\", \"ALHANDRA\", \"S\\u00c3O JO\\u00c3O DO RIO DO PEIXE\", \"ARA\\u00c7AGI\", \"ARARA\", \"ARARUNA\", \"AREIA\", \"AROEIRAS\", \"BANANEIRAS\", \"BARRA DE SANTA ROSA\", \"BAYEUX\", \"BEL\\u00c9M\", \"BONITO DE SANTA F\\u00c9\", \"BOQUEIR\\u00c3O\", \"BREJO DO CRUZ\", \"CAAPOR\\u00c3\", \"CABEDELO\", \"CACHOEIRA DOS \\u00cdNDIOS\", \"CACIMBA DE DENTRO\", \"CAJAZEIRAS\", \"CAMPINA GRANDE\", \"CATOL\\u00c9 DO ROCHA\", \"CONCEI\\u00c7\\u00c3O\", \"CONDE\", \"COREMAS\", \"CRUZ DO ESP\\u00cdRITO SANTO\", \"CUIT\\u00c9\", \"DONA IN\\u00caS\", \"ESPERAN\\u00c7A\", \"FAGUNDES\", \"GUARABIRA\", \"GURINH\\u00c9M\", \"IMACULADA\", \"ING\\u00c1\", \"ITABAIANA\", \"ITAPORANGA\", \"ITAPOROROCA\", \"ITATUBA\", \"JACARA\\u00da\", \"JO\\u00c3O PESSOA\", \"JUAZEIRINHO\", \"JURIPIRANGA\", \"LAGOA SECA\", \"LUCENA\", \"MAMANGUAPE\", \"MANA\\u00cdRA\", \"MARI\", \"MASSARANDUBA\", \"MOGEIRO\", \"MONTEIRO\", \"NATUBA\", \"NOVA FLORESTA\", \"PATOS\", \"PAULISTA\", \"PEDRAS DE FOGO\", \"PIANC\\u00d3\", \"PICU\\u00cd\", \"PILAR\", \"PIRPIRITUBA\", \"PITIMBU\", \"POCINHOS\", \"POMBAL\", \"PRINCESA ISABEL\", \"PUXINAN\\u00c3\", \"QUEIMADAS\", \"REM\\u00cdGIO\", \"RIO TINTO\", \"SALGADO DE S\\u00c3O F\\u00c9LIX\", \"SANTA LUZIA\", \"SANTA RITA\", \"S\\u00c3O BENTO\", \"S\\u00c3O JOS\\u00c9 DE PIRANHAS\", \"S\\u00c3O SEBASTI\\u00c3O DE LAGOA DE RO\\u00c7A\", \"SAP\\u00c9\", \"SERID\\u00d3\", \"SERRA BRANCA\", \"SOL\\u00c2NEA\", \"SOLEDADE\", \"SOUSA\", \"SUM\\u00c9\", \"TACIMA\", \"TAPERO\\u00c1\", \"TAVARES\", \"TEIXEIRA\", \"UIRA\\u00daNA\"], \"type\": \"scatter\", \"x\": [-0.24217405335908984, -0.19859381697093434, -0.168543931457629, -0.167096826719607, -0.15876045600288868, -0.14804123792233634, -0.14199826769194246, -0.140269353723577, -0.13839576133236015, -0.13692909873776507], \"y\": [\"confirmed_per_100k_inhabitants\", \"T_RMAXIDOSO\", \"AGUA_ESGOTO\", \"T_FUNDIN18MINF\", \"CPR\", \"T_ENV\", \"P_EXTR\", \"P_AGRO\", \"PMPOB\", \"T_ANALF25M\"]}],\n",
              "                        {\"template\": {\"data\": {\"bar\": [{\"error_x\": {\"color\": \"#2a3f5f\"}, \"error_y\": {\"color\": \"#2a3f5f\"}, \"marker\": {\"line\": {\"color\": \"#E5ECF6\", \"width\": 0.5}}, \"type\": \"bar\"}], \"barpolar\": [{\"marker\": {\"line\": {\"color\": \"#E5ECF6\", \"width\": 0.5}}, \"type\": \"barpolar\"}], \"carpet\": [{\"aaxis\": {\"endlinecolor\": \"#2a3f5f\", \"gridcolor\": \"white\", \"linecolor\": \"white\", \"minorgridcolor\": \"white\", \"startlinecolor\": \"#2a3f5f\"}, \"baxis\": {\"endlinecolor\": \"#2a3f5f\", \"gridcolor\": \"white\", \"linecolor\": \"white\", \"minorgridcolor\": \"white\", \"startlinecolor\": \"#2a3f5f\"}, \"type\": \"carpet\"}], \"choropleth\": [{\"colorbar\": {\"outlinewidth\": 0, \"ticks\": \"\"}, \"type\": \"choropleth\"}], \"contour\": [{\"colorbar\": {\"outlinewidth\": 0, \"ticks\": \"\"}, \"colorscale\": [[0.0, \"#0d0887\"], [0.1111111111111111, \"#46039f\"], [0.2222222222222222, \"#7201a8\"], [0.3333333333333333, \"#9c179e\"], [0.4444444444444444, \"#bd3786\"], [0.5555555555555556, \"#d8576b\"], [0.6666666666666666, \"#ed7953\"], [0.7777777777777778, \"#fb9f3a\"], [0.8888888888888888, \"#fdca26\"], [1.0, \"#f0f921\"]], \"type\": \"contour\"}], \"contourcarpet\": [{\"colorbar\": {\"outlinewidth\": 0, \"ticks\": \"\"}, \"type\": \"contourcarpet\"}], \"heatmap\": [{\"colorbar\": {\"outlinewidth\": 0, \"ticks\": \"\"}, \"colorscale\": [[0.0, \"#0d0887\"], [0.1111111111111111, \"#46039f\"], [0.2222222222222222, \"#7201a8\"], [0.3333333333333333, \"#9c179e\"], [0.4444444444444444, \"#bd3786\"], [0.5555555555555556, \"#d8576b\"], [0.6666666666666666, \"#ed7953\"], [0.7777777777777778, \"#fb9f3a\"], [0.8888888888888888, \"#fdca26\"], [1.0, \"#f0f921\"]], \"type\": \"heatmap\"}], \"heatmapgl\": [{\"colorbar\": {\"outlinewidth\": 0, \"ticks\": \"\"}, \"colorscale\": [[0.0, \"#0d0887\"], [0.1111111111111111, \"#46039f\"], [0.2222222222222222, \"#7201a8\"], [0.3333333333333333, \"#9c179e\"], [0.4444444444444444, \"#bd3786\"], [0.5555555555555556, \"#d8576b\"], [0.6666666666666666, \"#ed7953\"], [0.7777777777777778, \"#fb9f3a\"], [0.8888888888888888, \"#fdca26\"], [1.0, \"#f0f921\"]], \"type\": \"heatmapgl\"}], \"histogram\": [{\"marker\": {\"colorbar\": {\"outlinewidth\": 0, \"ticks\": \"\"}}, \"type\": \"histogram\"}], \"histogram2d\": [{\"colorbar\": {\"outlinewidth\": 0, \"ticks\": \"\"}, \"colorscale\": [[0.0, \"#0d0887\"], [0.1111111111111111, \"#46039f\"], [0.2222222222222222, \"#7201a8\"], [0.3333333333333333, \"#9c179e\"], [0.4444444444444444, \"#bd3786\"], [0.5555555555555556, \"#d8576b\"], [0.6666666666666666, \"#ed7953\"], [0.7777777777777778, \"#fb9f3a\"], [0.8888888888888888, \"#fdca26\"], [1.0, \"#f0f921\"]], \"type\": \"histogram2d\"}], \"histogram2dcontour\": [{\"colorbar\": {\"outlinewidth\": 0, \"ticks\": \"\"}, \"colorscale\": [[0.0, \"#0d0887\"], [0.1111111111111111, \"#46039f\"], [0.2222222222222222, \"#7201a8\"], [0.3333333333333333, \"#9c179e\"], [0.4444444444444444, \"#bd3786\"], [0.5555555555555556, \"#d8576b\"], [0.6666666666666666, \"#ed7953\"], [0.7777777777777778, \"#fb9f3a\"], [0.8888888888888888, \"#fdca26\"], [1.0, \"#f0f921\"]], \"type\": \"histogram2dcontour\"}], \"mesh3d\": [{\"colorbar\": {\"outlinewidth\": 0, \"ticks\": \"\"}, \"type\": \"mesh3d\"}], \"parcoords\": [{\"line\": {\"colorbar\": {\"outlinewidth\": 0, \"ticks\": \"\"}}, \"type\": \"parcoords\"}], \"pie\": [{\"automargin\": true, \"type\": \"pie\"}], \"scatter\": [{\"marker\": {\"colorbar\": {\"outlinewidth\": 0, \"ticks\": \"\"}}, \"type\": \"scatter\"}], \"scatter3d\": [{\"line\": {\"colorbar\": {\"outlinewidth\": 0, \"ticks\": \"\"}}, \"marker\": {\"colorbar\": {\"outlinewidth\": 0, \"ticks\": \"\"}}, \"type\": \"scatter3d\"}], \"scattercarpet\": [{\"marker\": {\"colorbar\": {\"outlinewidth\": 0, \"ticks\": \"\"}}, \"type\": \"scattercarpet\"}], \"scattergeo\": [{\"marker\": {\"colorbar\": {\"outlinewidth\": 0, \"ticks\": \"\"}}, \"type\": \"scattergeo\"}], \"scattergl\": [{\"marker\": {\"colorbar\": {\"outlinewidth\": 0, \"ticks\": \"\"}}, \"type\": \"scattergl\"}], \"scattermapbox\": [{\"marker\": {\"colorbar\": {\"outlinewidth\": 0, \"ticks\": \"\"}}, \"type\": \"scattermapbox\"}], \"scatterpolar\": [{\"marker\": {\"colorbar\": {\"outlinewidth\": 0, \"ticks\": \"\"}}, \"type\": \"scatterpolar\"}], \"scatterpolargl\": [{\"marker\": {\"colorbar\": {\"outlinewidth\": 0, \"ticks\": \"\"}}, \"type\": \"scatterpolargl\"}], \"scatterternary\": [{\"marker\": {\"colorbar\": {\"outlinewidth\": 0, \"ticks\": \"\"}}, \"type\": \"scatterternary\"}], \"surface\": [{\"colorbar\": {\"outlinewidth\": 0, \"ticks\": \"\"}, \"colorscale\": [[0.0, \"#0d0887\"], [0.1111111111111111, \"#46039f\"], [0.2222222222222222, \"#7201a8\"], [0.3333333333333333, \"#9c179e\"], [0.4444444444444444, \"#bd3786\"], [0.5555555555555556, \"#d8576b\"], [0.6666666666666666, \"#ed7953\"], [0.7777777777777778, \"#fb9f3a\"], [0.8888888888888888, \"#fdca26\"], [1.0, \"#f0f921\"]], \"type\": \"surface\"}], \"table\": [{\"cells\": {\"fill\": {\"color\": \"#EBF0F8\"}, \"line\": {\"color\": \"white\"}}, \"header\": {\"fill\": {\"color\": \"#C8D4E3\"}, \"line\": {\"color\": \"white\"}}, \"type\": \"table\"}]}, \"layout\": {\"annotationdefaults\": {\"arrowcolor\": \"#2a3f5f\", \"arrowhead\": 0, \"arrowwidth\": 1}, \"coloraxis\": {\"colorbar\": {\"outlinewidth\": 0, \"ticks\": \"\"}}, \"colorscale\": {\"diverging\": [[0, \"#8e0152\"], [0.1, \"#c51b7d\"], [0.2, \"#de77ae\"], [0.3, \"#f1b6da\"], [0.4, \"#fde0ef\"], [0.5, \"#f7f7f7\"], [0.6, \"#e6f5d0\"], [0.7, \"#b8e186\"], [0.8, \"#7fbc41\"], [0.9, \"#4d9221\"], [1, \"#276419\"]], \"sequential\": [[0.0, \"#0d0887\"], [0.1111111111111111, \"#46039f\"], [0.2222222222222222, \"#7201a8\"], [0.3333333333333333, \"#9c179e\"], [0.4444444444444444, \"#bd3786\"], [0.5555555555555556, \"#d8576b\"], [0.6666666666666666, \"#ed7953\"], [0.7777777777777778, \"#fb9f3a\"], [0.8888888888888888, \"#fdca26\"], [1.0, \"#f0f921\"]], \"sequentialminus\": [[0.0, \"#0d0887\"], [0.1111111111111111, \"#46039f\"], [0.2222222222222222, \"#7201a8\"], [0.3333333333333333, \"#9c179e\"], [0.4444444444444444, \"#bd3786\"], [0.5555555555555556, \"#d8576b\"], [0.6666666666666666, \"#ed7953\"], [0.7777777777777778, \"#fb9f3a\"], [0.8888888888888888, \"#fdca26\"], [1.0, \"#f0f921\"]]}, \"colorway\": [\"#636efa\", \"#EF553B\", \"#00cc96\", \"#ab63fa\", \"#FFA15A\", \"#19d3f3\", \"#FF6692\", \"#B6E880\", \"#FF97FF\", \"#FECB52\"], \"font\": {\"color\": \"#2a3f5f\"}, \"geo\": {\"bgcolor\": \"white\", \"lakecolor\": \"white\", \"landcolor\": \"#E5ECF6\", \"showlakes\": true, \"showland\": true, \"subunitcolor\": \"white\"}, \"hoverlabel\": {\"align\": \"left\"}, \"hovermode\": \"closest\", \"mapbox\": {\"style\": \"light\"}, \"paper_bgcolor\": \"white\", \"plot_bgcolor\": \"#E5ECF6\", \"polar\": {\"angularaxis\": {\"gridcolor\": \"white\", \"linecolor\": \"white\", \"ticks\": \"\"}, \"bgcolor\": \"#E5ECF6\", \"radialaxis\": {\"gridcolor\": \"white\", \"linecolor\": \"white\", \"ticks\": \"\"}}, \"scene\": {\"xaxis\": {\"backgroundcolor\": \"#E5ECF6\", \"gridcolor\": \"white\", \"gridwidth\": 2, \"linecolor\": \"white\", \"showbackground\": true, \"ticks\": \"\", \"zerolinecolor\": \"white\"}, \"yaxis\": {\"backgroundcolor\": \"#E5ECF6\", \"gridcolor\": \"white\", \"gridwidth\": 2, \"linecolor\": \"white\", \"showbackground\": true, \"ticks\": \"\", \"zerolinecolor\": \"white\"}, \"zaxis\": {\"backgroundcolor\": \"#E5ECF6\", \"gridcolor\": \"white\", \"gridwidth\": 2, \"linecolor\": \"white\", \"showbackground\": true, \"ticks\": \"\", \"zerolinecolor\": \"white\"}}, \"shapedefaults\": {\"line\": {\"color\": \"#2a3f5f\"}}, \"ternary\": {\"aaxis\": {\"gridcolor\": \"white\", \"linecolor\": \"white\", \"ticks\": \"\"}, \"baxis\": {\"gridcolor\": \"white\", \"linecolor\": \"white\", \"ticks\": \"\"}, \"bgcolor\": \"#E5ECF6\", \"caxis\": {\"gridcolor\": \"white\", \"linecolor\": \"white\", \"ticks\": \"\"}}, \"title\": {\"x\": 0.05}, \"xaxis\": {\"automargin\": true, \"gridcolor\": \"white\", \"linecolor\": \"white\", \"ticks\": \"\", \"title\": {\"standoff\": 15}, \"zerolinecolor\": \"white\", \"zerolinewidth\": 2}, \"yaxis\": {\"automargin\": true, \"gridcolor\": \"white\", \"linecolor\": \"white\", \"ticks\": \"\", \"title\": {\"standoff\": 15}, \"zerolinecolor\": \"white\", \"zerolinewidth\": 2}}}, \"title\": {\"text\": \"Indicadores do IDHM com maior correla\\u00e7\\u00e3o negativa de mortalidade de COVID-19\"}},\n",
              "                        {\"responsive\": true}\n",
              "                    ).then(function(){\n",
              "                            \n",
              "var gd = document.getElementById('f3eae1da-0231-4d13-858a-22ccd1b299b6');\n",
              "var x = new MutationObserver(function (mutations, observer) {{\n",
              "        var display = window.getComputedStyle(gd).display;\n",
              "        if (!display || display === 'none') {{\n",
              "            console.log([gd, 'removed!']);\n",
              "            Plotly.purge(gd);\n",
              "            observer.disconnect();\n",
              "        }}\n",
              "}});\n",
              "\n",
              "// Listen for the removal of the full notebook cells\n",
              "var notebookContainer = gd.closest('#notebook-container');\n",
              "if (notebookContainer) {{\n",
              "    x.observe(notebookContainer, {childList: true});\n",
              "}}\n",
              "\n",
              "// Listen for the clearing of the current output cell\n",
              "var outputEl = gd.closest('.output');\n",
              "if (outputEl) {{\n",
              "    x.observe(outputEl, {childList: true});\n",
              "}}\n",
              "\n",
              "                        })\n",
              "                };\n",
              "                \n",
              "            </script>\n",
              "        </div>\n",
              "</body>\n",
              "</html>"
            ]
          },
          "metadata": {
            "tags": []
          }
        }
      ]
    },
    {
      "cell_type": "code",
      "metadata": {
        "id": "6LyE2EUdFJhB"
      },
      "source": [
        "corr_negativa = idhmcovid[['T_RMAXIDOSO','AGUA_ESGOTO','T_FUNDIN18MINF','CPR','T_ENV']]"
      ],
      "execution_count": null,
      "outputs": []
    },
    {
      "cell_type": "code",
      "metadata": {
        "id": "7uiM_o4zIKXD"
      },
      "source": [
        "xtrain_corr_negativa, xtest_corr_negativa, ytrain_corr_negativa, ytest_corr_negativa = train_test_split(corr_negativa, mortalidade, test_size=0.4, random_state=42)"
      ],
      "execution_count": null,
      "outputs": []
    },
    {
      "cell_type": "code",
      "metadata": {
        "id": "wHpZ-_DGIKUj",
        "outputId": "48919fb6-3f81-46ed-c592-923922868294",
        "colab": {
          "base_uri": "https://localhost:8080/"
        }
      },
      "source": [
        "linreg_corr_negativa = LinearRegression()\n",
        "linreg_corr_negativa.fit(xtrain_corr_negativa, ytrain_corr_negativa)\n",
        "print('linear model coeff (w): {}'\n",
        ".format(linreg_corr_negativa.coef_))\n",
        "print('linear model intercept (b): {:.3f}'\n",
        ".format(linreg_corr_negativa.intercept_))\n",
        "print('R-squared score (training): {:.3f}'\n",
        ".format(linreg_corr_negativa.score(xtrain_corr_negativa, ytrain_corr_negativa)))\n",
        "print('R-squared score (test): {:.3f}'\n",
        ".format(linreg_corr_negativa.score(xtest_corr_negativa, ytest_corr_negativa)))"
      ],
      "execution_count": null,
      "outputs": [
        {
          "output_type": "stream",
          "text": [
            "linear model coeff (w): [-0.00111982 -0.00038996  0.00015329 -0.00103896 -0.00024901]\n",
            "linear model intercept (b): 0.054\n",
            "R-squared score (training): 0.148\n",
            "R-squared score (test): -0.421\n"
          ],
          "name": "stdout"
        }
      ]
    },
    {
      "cell_type": "code",
      "metadata": {
        "id": "fbkuLjA6G0NP",
        "outputId": "d185568b-fd68-44ab-b6f3-602d4ff1c037",
        "colab": {
          "base_uri": "https://localhost:8080/"
        }
      },
      "source": [
        "ipred_corr_negativa = linreg_corr_negativa.predict(xtest_corr_negativa)\n",
        "print('Mean squared error: %.2f'\n",
        "      % mean_squared_error(ytest_corr_negativa, ipred_corr_negativa))\n",
        "print('Coefficient of determination: %.2f'\n",
        "      % r2_score(ytest_corr_negativa, ipred_corr_negativa))"
      ],
      "execution_count": null,
      "outputs": [
        {
          "output_type": "stream",
          "text": [
            "Mean squared error: 0.00\n",
            "Coefficient of determination: -0.42\n"
          ],
          "name": "stdout"
        }
      ]
    },
    {
      "cell_type": "code",
      "metadata": {
        "id": "Rs8RUuM6IqUR",
        "outputId": "b61daf7b-b2e9-4b45-a1cd-3d477435b6a0",
        "colab": {
          "base_uri": "https://localhost:8080/",
          "height": 542
        }
      },
      "source": [
        "fig = go.Figure(data=go.Scatter(x=ytest_corr_negativa, y=ipred_corr_negativa, mode='markers', text=idhmcovid['Município'])) \n",
        "fig.update_layout(title=\"Valores reais e previstos de correlação negativa de mortalidade de COVID-19\")\n",
        "fig.show()"
      ],
      "execution_count": null,
      "outputs": [
        {
          "output_type": "display_data",
          "data": {
            "text/html": [
              "<html>\n",
              "<head><meta charset=\"utf-8\" /></head>\n",
              "<body>\n",
              "    <div>\n",
              "            <script src=\"https://cdnjs.cloudflare.com/ajax/libs/mathjax/2.7.5/MathJax.js?config=TeX-AMS-MML_SVG\"></script><script type=\"text/javascript\">if (window.MathJax) {MathJax.Hub.Config({SVG: {font: \"STIX-Web\"}});}</script>\n",
              "                <script type=\"text/javascript\">window.PlotlyConfig = {MathJaxConfig: 'local'};</script>\n",
              "        <script src=\"https://cdn.plot.ly/plotly-latest.min.js\"></script>    \n",
              "            <div id=\"bb0d0ab5-7e71-428e-b869-deba2d357916\" class=\"plotly-graph-div\" style=\"height:525px; width:100%;\"></div>\n",
              "            <script type=\"text/javascript\">\n",
              "                \n",
              "                    window.PLOTLYENV=window.PLOTLYENV || {};\n",
              "                    \n",
              "                if (document.getElementById(\"bb0d0ab5-7e71-428e-b869-deba2d357916\")) {\n",
              "                    Plotly.newPlot(\n",
              "                        'bb0d0ab5-7e71-428e-b869-deba2d357916',\n",
              "                        [{\"mode\": \"markers\", \"text\": [\"\\u00c1GUA BRANCA\", \"ALAGOA GRANDE\", \"ALAGOA NOVA\", \"ALAGOINHA\", \"ALHANDRA\", \"S\\u00c3O JO\\u00c3O DO RIO DO PEIXE\", \"ARA\\u00c7AGI\", \"ARARA\", \"ARARUNA\", \"AREIA\", \"AROEIRAS\", \"BANANEIRAS\", \"BARRA DE SANTA ROSA\", \"BAYEUX\", \"BEL\\u00c9M\", \"BONITO DE SANTA F\\u00c9\", \"BOQUEIR\\u00c3O\", \"BREJO DO CRUZ\", \"CAAPOR\\u00c3\", \"CABEDELO\", \"CACHOEIRA DOS \\u00cdNDIOS\", \"CACIMBA DE DENTRO\", \"CAJAZEIRAS\", \"CAMPINA GRANDE\", \"CATOL\\u00c9 DO ROCHA\", \"CONCEI\\u00c7\\u00c3O\", \"CONDE\", \"COREMAS\", \"CRUZ DO ESP\\u00cdRITO SANTO\", \"CUIT\\u00c9\", \"DONA IN\\u00caS\", \"ESPERAN\\u00c7A\", \"FAGUNDES\", \"GUARABIRA\", \"GURINH\\u00c9M\", \"IMACULADA\", \"ING\\u00c1\", \"ITABAIANA\", \"ITAPORANGA\", \"ITAPOROROCA\", \"ITATUBA\", \"JACARA\\u00da\", \"JO\\u00c3O PESSOA\", \"JUAZEIRINHO\", \"JURIPIRANGA\", \"LAGOA SECA\", \"LUCENA\", \"MAMANGUAPE\", \"MANA\\u00cdRA\", \"MARI\", \"MASSARANDUBA\", \"MOGEIRO\", \"MONTEIRO\", \"NATUBA\", \"NOVA FLORESTA\", \"PATOS\", \"PAULISTA\", \"PEDRAS DE FOGO\", \"PIANC\\u00d3\", \"PICU\\u00cd\", \"PILAR\", \"PIRPIRITUBA\", \"PITIMBU\", \"POCINHOS\", \"POMBAL\", \"PRINCESA ISABEL\", \"PUXINAN\\u00c3\", \"QUEIMADAS\", \"REM\\u00cdGIO\", \"RIO TINTO\", \"SALGADO DE S\\u00c3O F\\u00c9LIX\", \"SANTA LUZIA\", \"SANTA RITA\", \"S\\u00c3O BENTO\", \"S\\u00c3O JOS\\u00c9 DE PIRANHAS\", \"S\\u00c3O SEBASTI\\u00c3O DE LAGOA DE RO\\u00c7A\", \"SAP\\u00c9\", \"SERID\\u00d3\", \"SERRA BRANCA\", \"SOL\\u00c2NEA\", \"SOLEDADE\", \"SOUSA\", \"SUM\\u00c9\", \"TACIMA\", \"TAPERO\\u00c1\", \"TAVARES\", \"TEIXEIRA\", \"UIRA\\u00daNA\"], \"type\": \"scatter\", \"x\": [0.0454, 0.0267, 0.0178, 0.0223, 0.0085, 0.0125, 0.0045, 0.0162, 0.027, 0.0158, 0.0099, 0.045, 0.0215, 0.0044, 0.0161, 0.0077, 0.0158, 0.0122, 0.0202, 0.0113, 0.0046, 0.0163, 0.0137, 0.0474, 0.0098, 0.0064, 0.0123, 0.0095, 0.0139, 0.0, 0.0221, 0.0175, 0.0172, 0.0303, 0.0179, 0.0258], \"y\": [0.019091232560602772, 0.029626407249213477, 0.029663042634915614, 0.0284093588397721, 0.012397874353316352, 0.024496890289634803, 0.01897284766196012, 0.03917226719736244, 0.0276438557639263, 0.022431549149775888, 0.030484804591174215, 0.03118026750913213, 0.025711330424128598, 0.0166052168901812, 0.019179245534062236, 0.020973205510164482, 0.025099877886197518, 0.014480081182014659, 0.02563841446581521, 0.0312680788429478, 0.01415177598782738, 0.02273765252218024, 0.024622076152799637, 0.03267906631371403, 0.024891320198632185, 0.03499829157379504, 0.02204557490270171, 0.02034800692407856, 0.01966284291392824, 0.03196856114227019, 0.015414790831201376, 0.018137904618471166, 0.016296344853286945, 0.03443165751864461, 0.023730222169489966, 0.027383340002919036]}],\n",
              "                        {\"template\": {\"data\": {\"bar\": [{\"error_x\": {\"color\": \"#2a3f5f\"}, \"error_y\": {\"color\": \"#2a3f5f\"}, \"marker\": {\"line\": {\"color\": \"#E5ECF6\", \"width\": 0.5}}, \"type\": \"bar\"}], \"barpolar\": [{\"marker\": {\"line\": {\"color\": \"#E5ECF6\", \"width\": 0.5}}, \"type\": \"barpolar\"}], \"carpet\": [{\"aaxis\": {\"endlinecolor\": \"#2a3f5f\", \"gridcolor\": \"white\", \"linecolor\": \"white\", \"minorgridcolor\": \"white\", \"startlinecolor\": \"#2a3f5f\"}, \"baxis\": {\"endlinecolor\": \"#2a3f5f\", \"gridcolor\": \"white\", \"linecolor\": \"white\", \"minorgridcolor\": \"white\", \"startlinecolor\": \"#2a3f5f\"}, \"type\": \"carpet\"}], \"choropleth\": [{\"colorbar\": {\"outlinewidth\": 0, \"ticks\": \"\"}, \"type\": \"choropleth\"}], \"contour\": [{\"colorbar\": {\"outlinewidth\": 0, \"ticks\": \"\"}, \"colorscale\": [[0.0, \"#0d0887\"], [0.1111111111111111, \"#46039f\"], [0.2222222222222222, \"#7201a8\"], [0.3333333333333333, \"#9c179e\"], [0.4444444444444444, \"#bd3786\"], [0.5555555555555556, \"#d8576b\"], [0.6666666666666666, \"#ed7953\"], [0.7777777777777778, \"#fb9f3a\"], [0.8888888888888888, \"#fdca26\"], [1.0, \"#f0f921\"]], \"type\": \"contour\"}], \"contourcarpet\": [{\"colorbar\": {\"outlinewidth\": 0, \"ticks\": \"\"}, \"type\": \"contourcarpet\"}], \"heatmap\": [{\"colorbar\": {\"outlinewidth\": 0, \"ticks\": \"\"}, \"colorscale\": [[0.0, \"#0d0887\"], [0.1111111111111111, \"#46039f\"], [0.2222222222222222, \"#7201a8\"], [0.3333333333333333, \"#9c179e\"], [0.4444444444444444, \"#bd3786\"], [0.5555555555555556, \"#d8576b\"], [0.6666666666666666, \"#ed7953\"], [0.7777777777777778, \"#fb9f3a\"], [0.8888888888888888, \"#fdca26\"], [1.0, \"#f0f921\"]], \"type\": \"heatmap\"}], \"heatmapgl\": [{\"colorbar\": {\"outlinewidth\": 0, \"ticks\": \"\"}, \"colorscale\": [[0.0, \"#0d0887\"], [0.1111111111111111, \"#46039f\"], [0.2222222222222222, \"#7201a8\"], [0.3333333333333333, \"#9c179e\"], [0.4444444444444444, \"#bd3786\"], [0.5555555555555556, \"#d8576b\"], [0.6666666666666666, \"#ed7953\"], [0.7777777777777778, \"#fb9f3a\"], [0.8888888888888888, \"#fdca26\"], [1.0, \"#f0f921\"]], \"type\": \"heatmapgl\"}], \"histogram\": [{\"marker\": {\"colorbar\": {\"outlinewidth\": 0, \"ticks\": \"\"}}, \"type\": \"histogram\"}], \"histogram2d\": [{\"colorbar\": {\"outlinewidth\": 0, \"ticks\": \"\"}, \"colorscale\": [[0.0, \"#0d0887\"], [0.1111111111111111, \"#46039f\"], [0.2222222222222222, \"#7201a8\"], [0.3333333333333333, \"#9c179e\"], [0.4444444444444444, \"#bd3786\"], [0.5555555555555556, \"#d8576b\"], [0.6666666666666666, \"#ed7953\"], [0.7777777777777778, \"#fb9f3a\"], [0.8888888888888888, \"#fdca26\"], [1.0, \"#f0f921\"]], \"type\": \"histogram2d\"}], \"histogram2dcontour\": [{\"colorbar\": {\"outlinewidth\": 0, \"ticks\": \"\"}, \"colorscale\": [[0.0, \"#0d0887\"], [0.1111111111111111, \"#46039f\"], [0.2222222222222222, \"#7201a8\"], [0.3333333333333333, \"#9c179e\"], [0.4444444444444444, \"#bd3786\"], [0.5555555555555556, \"#d8576b\"], [0.6666666666666666, \"#ed7953\"], [0.7777777777777778, \"#fb9f3a\"], [0.8888888888888888, \"#fdca26\"], [1.0, \"#f0f921\"]], \"type\": \"histogram2dcontour\"}], \"mesh3d\": [{\"colorbar\": {\"outlinewidth\": 0, \"ticks\": \"\"}, \"type\": \"mesh3d\"}], \"parcoords\": [{\"line\": {\"colorbar\": {\"outlinewidth\": 0, \"ticks\": \"\"}}, \"type\": \"parcoords\"}], \"pie\": [{\"automargin\": true, \"type\": \"pie\"}], \"scatter\": [{\"marker\": {\"colorbar\": {\"outlinewidth\": 0, \"ticks\": \"\"}}, \"type\": \"scatter\"}], \"scatter3d\": [{\"line\": {\"colorbar\": {\"outlinewidth\": 0, \"ticks\": \"\"}}, \"marker\": {\"colorbar\": {\"outlinewidth\": 0, \"ticks\": \"\"}}, \"type\": \"scatter3d\"}], \"scattercarpet\": [{\"marker\": {\"colorbar\": {\"outlinewidth\": 0, \"ticks\": \"\"}}, \"type\": \"scattercarpet\"}], \"scattergeo\": [{\"marker\": {\"colorbar\": {\"outlinewidth\": 0, \"ticks\": \"\"}}, \"type\": \"scattergeo\"}], \"scattergl\": [{\"marker\": {\"colorbar\": {\"outlinewidth\": 0, \"ticks\": \"\"}}, \"type\": \"scattergl\"}], \"scattermapbox\": [{\"marker\": {\"colorbar\": {\"outlinewidth\": 0, \"ticks\": \"\"}}, \"type\": \"scattermapbox\"}], \"scatterpolar\": [{\"marker\": {\"colorbar\": {\"outlinewidth\": 0, \"ticks\": \"\"}}, \"type\": \"scatterpolar\"}], \"scatterpolargl\": [{\"marker\": {\"colorbar\": {\"outlinewidth\": 0, \"ticks\": \"\"}}, \"type\": \"scatterpolargl\"}], \"scatterternary\": [{\"marker\": {\"colorbar\": {\"outlinewidth\": 0, \"ticks\": \"\"}}, \"type\": \"scatterternary\"}], \"surface\": [{\"colorbar\": {\"outlinewidth\": 0, \"ticks\": \"\"}, \"colorscale\": [[0.0, \"#0d0887\"], [0.1111111111111111, \"#46039f\"], [0.2222222222222222, \"#7201a8\"], [0.3333333333333333, \"#9c179e\"], [0.4444444444444444, \"#bd3786\"], [0.5555555555555556, \"#d8576b\"], [0.6666666666666666, \"#ed7953\"], [0.7777777777777778, \"#fb9f3a\"], [0.8888888888888888, \"#fdca26\"], [1.0, \"#f0f921\"]], \"type\": \"surface\"}], \"table\": [{\"cells\": {\"fill\": {\"color\": \"#EBF0F8\"}, \"line\": {\"color\": \"white\"}}, \"header\": {\"fill\": {\"color\": \"#C8D4E3\"}, \"line\": {\"color\": \"white\"}}, \"type\": \"table\"}]}, \"layout\": {\"annotationdefaults\": {\"arrowcolor\": \"#2a3f5f\", \"arrowhead\": 0, \"arrowwidth\": 1}, \"coloraxis\": {\"colorbar\": {\"outlinewidth\": 0, \"ticks\": \"\"}}, \"colorscale\": {\"diverging\": [[0, \"#8e0152\"], [0.1, \"#c51b7d\"], [0.2, \"#de77ae\"], [0.3, \"#f1b6da\"], [0.4, \"#fde0ef\"], [0.5, \"#f7f7f7\"], [0.6, \"#e6f5d0\"], [0.7, \"#b8e186\"], [0.8, \"#7fbc41\"], [0.9, \"#4d9221\"], [1, \"#276419\"]], \"sequential\": [[0.0, \"#0d0887\"], [0.1111111111111111, \"#46039f\"], [0.2222222222222222, \"#7201a8\"], [0.3333333333333333, \"#9c179e\"], [0.4444444444444444, \"#bd3786\"], [0.5555555555555556, \"#d8576b\"], [0.6666666666666666, \"#ed7953\"], [0.7777777777777778, \"#fb9f3a\"], [0.8888888888888888, \"#fdca26\"], [1.0, \"#f0f921\"]], \"sequentialminus\": [[0.0, \"#0d0887\"], [0.1111111111111111, \"#46039f\"], [0.2222222222222222, \"#7201a8\"], [0.3333333333333333, \"#9c179e\"], [0.4444444444444444, \"#bd3786\"], [0.5555555555555556, \"#d8576b\"], [0.6666666666666666, \"#ed7953\"], [0.7777777777777778, \"#fb9f3a\"], [0.8888888888888888, \"#fdca26\"], [1.0, \"#f0f921\"]]}, \"colorway\": [\"#636efa\", \"#EF553B\", \"#00cc96\", \"#ab63fa\", \"#FFA15A\", \"#19d3f3\", \"#FF6692\", \"#B6E880\", \"#FF97FF\", \"#FECB52\"], \"font\": {\"color\": \"#2a3f5f\"}, \"geo\": {\"bgcolor\": \"white\", \"lakecolor\": \"white\", \"landcolor\": \"#E5ECF6\", \"showlakes\": true, \"showland\": true, \"subunitcolor\": \"white\"}, \"hoverlabel\": {\"align\": \"left\"}, \"hovermode\": \"closest\", \"mapbox\": {\"style\": \"light\"}, \"paper_bgcolor\": \"white\", \"plot_bgcolor\": \"#E5ECF6\", \"polar\": {\"angularaxis\": {\"gridcolor\": \"white\", \"linecolor\": \"white\", \"ticks\": \"\"}, \"bgcolor\": \"#E5ECF6\", \"radialaxis\": {\"gridcolor\": \"white\", \"linecolor\": \"white\", \"ticks\": \"\"}}, \"scene\": {\"xaxis\": {\"backgroundcolor\": \"#E5ECF6\", \"gridcolor\": \"white\", \"gridwidth\": 2, \"linecolor\": \"white\", \"showbackground\": true, \"ticks\": \"\", \"zerolinecolor\": \"white\"}, \"yaxis\": {\"backgroundcolor\": \"#E5ECF6\", \"gridcolor\": \"white\", \"gridwidth\": 2, \"linecolor\": \"white\", \"showbackground\": true, \"ticks\": \"\", \"zerolinecolor\": \"white\"}, \"zaxis\": {\"backgroundcolor\": \"#E5ECF6\", \"gridcolor\": \"white\", \"gridwidth\": 2, \"linecolor\": \"white\", \"showbackground\": true, \"ticks\": \"\", \"zerolinecolor\": \"white\"}}, \"shapedefaults\": {\"line\": {\"color\": \"#2a3f5f\"}}, \"ternary\": {\"aaxis\": {\"gridcolor\": \"white\", \"linecolor\": \"white\", \"ticks\": \"\"}, \"baxis\": {\"gridcolor\": \"white\", \"linecolor\": \"white\", \"ticks\": \"\"}, \"bgcolor\": \"#E5ECF6\", \"caxis\": {\"gridcolor\": \"white\", \"linecolor\": \"white\", \"ticks\": \"\"}}, \"title\": {\"x\": 0.05}, \"xaxis\": {\"automargin\": true, \"gridcolor\": \"white\", \"linecolor\": \"white\", \"ticks\": \"\", \"title\": {\"standoff\": 15}, \"zerolinecolor\": \"white\", \"zerolinewidth\": 2}, \"yaxis\": {\"automargin\": true, \"gridcolor\": \"white\", \"linecolor\": \"white\", \"ticks\": \"\", \"title\": {\"standoff\": 15}, \"zerolinecolor\": \"white\", \"zerolinewidth\": 2}}}, \"title\": {\"text\": \"Valores reais e previstos de correla\\u00e7\\u00e3o negativa de mortalidade de COVID-19\"}},\n",
              "                        {\"responsive\": true}\n",
              "                    ).then(function(){\n",
              "                            \n",
              "var gd = document.getElementById('bb0d0ab5-7e71-428e-b869-deba2d357916');\n",
              "var x = new MutationObserver(function (mutations, observer) {{\n",
              "        var display = window.getComputedStyle(gd).display;\n",
              "        if (!display || display === 'none') {{\n",
              "            console.log([gd, 'removed!']);\n",
              "            Plotly.purge(gd);\n",
              "            observer.disconnect();\n",
              "        }}\n",
              "}});\n",
              "\n",
              "// Listen for the removal of the full notebook cells\n",
              "var notebookContainer = gd.closest('#notebook-container');\n",
              "if (notebookContainer) {{\n",
              "    x.observe(notebookContainer, {childList: true});\n",
              "}}\n",
              "\n",
              "// Listen for the clearing of the current output cell\n",
              "var outputEl = gd.closest('.output');\n",
              "if (outputEl) {{\n",
              "    x.observe(outputEl, {childList: true});\n",
              "}}\n",
              "\n",
              "                        })\n",
              "                };\n",
              "                \n",
              "            </script>\n",
              "        </div>\n",
              "</body>\n",
              "</html>"
            ]
          },
          "metadata": {
            "tags": []
          }
        }
      ]
    },
    {
      "cell_type": "code",
      "metadata": {
        "id": "AdVn0qKkIvmE",
        "outputId": "73bd551c-0fd6-4986-a2b7-65244fd8a055",
        "colab": {
          "base_uri": "https://localhost:8080/",
          "height": 400
        }
      },
      "source": [
        "df_corr_negativa = pd.DataFrame ({'Real': ytest_corr_negativa, 'Previsto': ipred_corr_negativa}) \n",
        "sns.lmplot(x=\"Real\", y=\"Previsto\", data=df_corr_negativa)"
      ],
      "execution_count": null,
      "outputs": [
        {
          "output_type": "execute_result",
          "data": {
            "text/plain": [
              "<seaborn.axisgrid.FacetGrid at 0x7ffb50dc2cc0>"
            ]
          },
          "metadata": {
            "tags": []
          },
          "execution_count": 17
        },
        {
          "output_type": "display_data",
          "data": {
            "image/png": "[encoded data removed]",
            "text/plain": [
              "<Figure size 360x360 with 1 Axes>"
            ]
          },
          "metadata": {
            "tags": [],
            "needs_background": "light"
          }
        }
      ]
    }
  ]
}